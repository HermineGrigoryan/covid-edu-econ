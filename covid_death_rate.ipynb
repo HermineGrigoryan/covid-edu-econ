{
 "cells": [
  {
   "cell_type": "code",
   "execution_count": 1,
   "metadata": {},
   "outputs": [],
   "source": [
    "import pandas as pd\n",
    "import plotly.express as px"
   ]
  },
  {
   "cell_type": "code",
   "execution_count": 2,
   "metadata": {},
   "outputs": [],
   "source": [
    "data = pd.read_csv('owid-covid-data.csv')"
   ]
  },
  {
   "cell_type": "code",
   "execution_count": 3,
   "metadata": {},
   "outputs": [],
   "source": [
    "data = data[['iso_code', 'continent', 'location', 'new_cases', 'new_deaths',\n",
    "       'new_cases_per_million', 'new_deaths_per_million',\n",
    "       'icu_patients_per_million',\n",
    "       'hosp_patients_per_million', 'new_tests_per_thousand',\n",
    "       'positive_rate', 'total_vaccinations',\n",
    "       'new_vaccinations', 'people_vaccinated_per_hundred',\n",
    "       'people_fully_vaccinated_per_hundred', 'new_vaccinations_smoothed_per_million',\n",
    "       'population', 'population_density', 'median_age', 'aged_65_older',\n",
    "       'aged_70_older', 'gdp_per_capita', 'extreme_poverty',\n",
    "       'cardiovasc_death_rate', 'diabetes_prevalence', 'female_smokers',\n",
    "       'male_smokers', 'handwashing_facilities', 'hospital_beds_per_thousand',\n",
    "       'life_expectancy', 'human_development_index']]"
   ]
  },
  {
   "cell_type": "code",
   "execution_count": 4,
   "metadata": {},
   "outputs": [
    {
     "data": {
      "text/html": [
       "<div>\n",
       "<style scoped>\n",
       "    .dataframe tbody tr th:only-of-type {\n",
       "        vertical-align: middle;\n",
       "    }\n",
       "\n",
       "    .dataframe tbody tr th {\n",
       "        vertical-align: top;\n",
       "    }\n",
       "\n",
       "    .dataframe thead th {\n",
       "        text-align: right;\n",
       "    }\n",
       "</style>\n",
       "<table border=\"1\" class=\"dataframe\">\n",
       "  <thead>\n",
       "    <tr style=\"text-align: right;\">\n",
       "      <th></th>\n",
       "      <th>iso_code</th>\n",
       "      <th>location</th>\n",
       "      <th>continent</th>\n",
       "      <th>total_cases</th>\n",
       "      <th>total_deaths</th>\n",
       "      <th>total_cases_per_million</th>\n",
       "      <th>total_deaths_per_million</th>\n",
       "      <th>total_vaccinations</th>\n",
       "    </tr>\n",
       "  </thead>\n",
       "  <tbody>\n",
       "    <tr>\n",
       "      <th>0</th>\n",
       "      <td>ABW</td>\n",
       "      <td>Aruba</td>\n",
       "      <td>North America</td>\n",
       "      <td>NaN</td>\n",
       "      <td>NaN</td>\n",
       "      <td>NaN</td>\n",
       "      <td>NaN</td>\n",
       "      <td>103093.0</td>\n",
       "    </tr>\n",
       "    <tr>\n",
       "      <th>1</th>\n",
       "      <td>AFG</td>\n",
       "      <td>Afghanistan</td>\n",
       "      <td>Asia</td>\n",
       "      <td>156363.0</td>\n",
       "      <td>7284.0</td>\n",
       "      <td>3925.231</td>\n",
       "      <td>182.831</td>\n",
       "      <td>6874.0</td>\n",
       "    </tr>\n",
       "    <tr>\n",
       "      <th>2</th>\n",
       "      <td>AGO</td>\n",
       "      <td>Angola</td>\n",
       "      <td>Africa</td>\n",
       "      <td>64583.0</td>\n",
       "      <td>1718.0</td>\n",
       "      <td>1903.207</td>\n",
       "      <td>50.564</td>\n",
       "      <td>NaN</td>\n",
       "    </tr>\n",
       "    <tr>\n",
       "      <th>3</th>\n",
       "      <td>AIA</td>\n",
       "      <td>Anguilla</td>\n",
       "      <td>North America</td>\n",
       "      <td>NaN</td>\n",
       "      <td>NaN</td>\n",
       "      <td>NaN</td>\n",
       "      <td>NaN</td>\n",
       "      <td>1421.0</td>\n",
       "    </tr>\n",
       "    <tr>\n",
       "      <th>4</th>\n",
       "      <td>ALB</td>\n",
       "      <td>Albania</td>\n",
       "      <td>Europe</td>\n",
       "      <td>187363.0</td>\n",
       "      <td>2944.0</td>\n",
       "      <td>65216.607</td>\n",
       "      <td>1024.684</td>\n",
       "      <td>1269877.0</td>\n",
       "    </tr>\n",
       "    <tr>\n",
       "      <th>...</th>\n",
       "      <td>...</td>\n",
       "      <td>...</td>\n",
       "      <td>...</td>\n",
       "      <td>...</td>\n",
       "      <td>...</td>\n",
       "      <td>...</td>\n",
       "      <td>...</td>\n",
       "      <td>...</td>\n",
       "    </tr>\n",
       "    <tr>\n",
       "      <th>219</th>\n",
       "      <td>WSM</td>\n",
       "      <td>Samoa</td>\n",
       "      <td>Oceania</td>\n",
       "      <td>3.0</td>\n",
       "      <td>NaN</td>\n",
       "      <td>14.988</td>\n",
       "      <td>NaN</td>\n",
       "      <td>NaN</td>\n",
       "    </tr>\n",
       "    <tr>\n",
       "      <th>220</th>\n",
       "      <td>YEM</td>\n",
       "      <td>Yemen</td>\n",
       "      <td>Asia</td>\n",
       "      <td>9831.0</td>\n",
       "      <td>1901.0</td>\n",
       "      <td>322.451</td>\n",
       "      <td>62.371</td>\n",
       "      <td>NaN</td>\n",
       "    </tr>\n",
       "    <tr>\n",
       "      <th>221</th>\n",
       "      <td>ZAF</td>\n",
       "      <td>South Africa</td>\n",
       "      <td>Africa</td>\n",
       "      <td>2923054.0</td>\n",
       "      <td>89251.0</td>\n",
       "      <td>48683.488</td>\n",
       "      <td>1486.486</td>\n",
       "      <td>9175952.0</td>\n",
       "    </tr>\n",
       "    <tr>\n",
       "      <th>222</th>\n",
       "      <td>ZMB</td>\n",
       "      <td>Zambia</td>\n",
       "      <td>Africa</td>\n",
       "      <td>209815.0</td>\n",
       "      <td>3662.0</td>\n",
       "      <td>11089.220</td>\n",
       "      <td>193.577</td>\n",
       "      <td>553717.0</td>\n",
       "    </tr>\n",
       "    <tr>\n",
       "      <th>223</th>\n",
       "      <td>ZWE</td>\n",
       "      <td>Zimbabwe</td>\n",
       "      <td>Africa</td>\n",
       "      <td>133112.0</td>\n",
       "      <td>4685.0</td>\n",
       "      <td>8819.941</td>\n",
       "      <td>310.432</td>\n",
       "      <td>5277407.0</td>\n",
       "    </tr>\n",
       "  </tbody>\n",
       "</table>\n",
       "<p>224 rows × 8 columns</p>\n",
       "</div>"
      ],
      "text/plain": [
       "    iso_code      location      continent  total_cases  total_deaths  \\\n",
       "0        ABW         Aruba  North America          NaN           NaN   \n",
       "1        AFG   Afghanistan           Asia     156363.0        7284.0   \n",
       "2        AGO        Angola         Africa      64583.0        1718.0   \n",
       "3        AIA      Anguilla  North America          NaN           NaN   \n",
       "4        ALB       Albania         Europe     187363.0        2944.0   \n",
       "..       ...           ...            ...          ...           ...   \n",
       "219      WSM         Samoa        Oceania          3.0           NaN   \n",
       "220      YEM         Yemen           Asia       9831.0        1901.0   \n",
       "221      ZAF  South Africa         Africa    2923054.0       89251.0   \n",
       "222      ZMB        Zambia         Africa     209815.0        3662.0   \n",
       "223      ZWE      Zimbabwe         Africa     133112.0        4685.0   \n",
       "\n",
       "     total_cases_per_million  total_deaths_per_million  total_vaccinations  \n",
       "0                        NaN                       NaN            103093.0  \n",
       "1                   3925.231                   182.831              6874.0  \n",
       "2                   1903.207                    50.564                 NaN  \n",
       "3                        NaN                       NaN              1421.0  \n",
       "4                  65216.607                  1024.684           1269877.0  \n",
       "..                       ...                       ...                 ...  \n",
       "219                   14.988                       NaN                 NaN  \n",
       "220                  322.451                    62.371                 NaN  \n",
       "221                48683.488                  1486.486           9175952.0  \n",
       "222                11089.220                   193.577            553717.0  \n",
       "223                 8819.941                   310.432           5277407.0  \n",
       "\n",
       "[224 rows x 8 columns]"
      ]
     },
     "execution_count": 4,
     "metadata": {},
     "output_type": "execute_result"
    }
   ],
   "source": [
    "df_sum = data.groupby(['iso_code', 'location', 'continent'])[['new_cases', 'new_deaths',\n",
    "       'new_cases_per_million', 'new_deaths_per_million', 'new_vaccinations']].sum(min_count=1).reset_index()\n",
    "\n",
    "df_sum.columns = [i.replace('new', 'total') for i in df_sum.columns]\n",
    "df_sum"
   ]
  },
  {
   "cell_type": "code",
   "execution_count": 5,
   "metadata": {},
   "outputs": [],
   "source": [
    "df_unique = data[[\n",
    "       'iso_code', 'location', 'continent',\n",
    "       'population', 'population_density', 'median_age', 'aged_65_older',\n",
    "       'aged_70_older', 'gdp_per_capita', 'extreme_poverty',\n",
    "       'cardiovasc_death_rate', 'diabetes_prevalence', 'female_smokers',\n",
    "       'male_smokers', 'handwashing_facilities', 'hospital_beds_per_thousand',\n",
    "       'life_expectancy', 'human_development_index']].drop_duplicates().reset_index(drop=True)"
   ]
  },
  {
   "cell_type": "code",
   "execution_count": 6,
   "metadata": {},
   "outputs": [
    {
     "data": {
      "text/html": [
       "<div>\n",
       "<style scoped>\n",
       "    .dataframe tbody tr th:only-of-type {\n",
       "        vertical-align: middle;\n",
       "    }\n",
       "\n",
       "    .dataframe tbody tr th {\n",
       "        vertical-align: top;\n",
       "    }\n",
       "\n",
       "    .dataframe thead th {\n",
       "        text-align: right;\n",
       "    }\n",
       "</style>\n",
       "<table border=\"1\" class=\"dataframe\">\n",
       "  <thead>\n",
       "    <tr style=\"text-align: right;\">\n",
       "      <th></th>\n",
       "      <th>iso_code</th>\n",
       "      <th>location</th>\n",
       "      <th>continent</th>\n",
       "      <th>population</th>\n",
       "      <th>population_density</th>\n",
       "      <th>median_age</th>\n",
       "      <th>aged_65_older</th>\n",
       "      <th>aged_70_older</th>\n",
       "      <th>gdp_per_capita</th>\n",
       "      <th>extreme_poverty</th>\n",
       "      <th>cardiovasc_death_rate</th>\n",
       "      <th>diabetes_prevalence</th>\n",
       "      <th>female_smokers</th>\n",
       "      <th>male_smokers</th>\n",
       "      <th>handwashing_facilities</th>\n",
       "      <th>hospital_beds_per_thousand</th>\n",
       "      <th>life_expectancy</th>\n",
       "      <th>human_development_index</th>\n",
       "    </tr>\n",
       "  </thead>\n",
       "  <tbody>\n",
       "    <tr>\n",
       "      <th>0</th>\n",
       "      <td>AFG</td>\n",
       "      <td>Afghanistan</td>\n",
       "      <td>Asia</td>\n",
       "      <td>3.983543e+07</td>\n",
       "      <td>54.422</td>\n",
       "      <td>18.6</td>\n",
       "      <td>2.581</td>\n",
       "      <td>1.337</td>\n",
       "      <td>1803.987</td>\n",
       "      <td>NaN</td>\n",
       "      <td>597.029</td>\n",
       "      <td>9.59</td>\n",
       "      <td>NaN</td>\n",
       "      <td>NaN</td>\n",
       "      <td>37.746</td>\n",
       "      <td>0.500</td>\n",
       "      <td>64.83</td>\n",
       "      <td>0.511</td>\n",
       "    </tr>\n",
       "    <tr>\n",
       "      <th>1</th>\n",
       "      <td>OWID_AFR</td>\n",
       "      <td>Africa</td>\n",
       "      <td>NaN</td>\n",
       "      <td>1.373486e+09</td>\n",
       "      <td>NaN</td>\n",
       "      <td>NaN</td>\n",
       "      <td>NaN</td>\n",
       "      <td>NaN</td>\n",
       "      <td>NaN</td>\n",
       "      <td>NaN</td>\n",
       "      <td>NaN</td>\n",
       "      <td>NaN</td>\n",
       "      <td>NaN</td>\n",
       "      <td>NaN</td>\n",
       "      <td>NaN</td>\n",
       "      <td>NaN</td>\n",
       "      <td>NaN</td>\n",
       "      <td>NaN</td>\n",
       "    </tr>\n",
       "    <tr>\n",
       "      <th>2</th>\n",
       "      <td>ALB</td>\n",
       "      <td>Albania</td>\n",
       "      <td>Europe</td>\n",
       "      <td>2.872934e+06</td>\n",
       "      <td>104.871</td>\n",
       "      <td>38.0</td>\n",
       "      <td>13.188</td>\n",
       "      <td>8.643</td>\n",
       "      <td>11803.431</td>\n",
       "      <td>1.1</td>\n",
       "      <td>304.195</td>\n",
       "      <td>10.08</td>\n",
       "      <td>7.100</td>\n",
       "      <td>51.200</td>\n",
       "      <td>NaN</td>\n",
       "      <td>2.890</td>\n",
       "      <td>78.57</td>\n",
       "      <td>0.795</td>\n",
       "    </tr>\n",
       "    <tr>\n",
       "      <th>3</th>\n",
       "      <td>DZA</td>\n",
       "      <td>Algeria</td>\n",
       "      <td>Africa</td>\n",
       "      <td>4.461663e+07</td>\n",
       "      <td>17.348</td>\n",
       "      <td>29.1</td>\n",
       "      <td>6.211</td>\n",
       "      <td>3.857</td>\n",
       "      <td>13913.839</td>\n",
       "      <td>0.5</td>\n",
       "      <td>278.364</td>\n",
       "      <td>6.73</td>\n",
       "      <td>0.700</td>\n",
       "      <td>30.400</td>\n",
       "      <td>83.741</td>\n",
       "      <td>1.900</td>\n",
       "      <td>76.88</td>\n",
       "      <td>0.748</td>\n",
       "    </tr>\n",
       "    <tr>\n",
       "      <th>4</th>\n",
       "      <td>AND</td>\n",
       "      <td>Andorra</td>\n",
       "      <td>Europe</td>\n",
       "      <td>7.735400e+04</td>\n",
       "      <td>163.755</td>\n",
       "      <td>NaN</td>\n",
       "      <td>NaN</td>\n",
       "      <td>NaN</td>\n",
       "      <td>NaN</td>\n",
       "      <td>NaN</td>\n",
       "      <td>109.135</td>\n",
       "      <td>7.97</td>\n",
       "      <td>29.000</td>\n",
       "      <td>37.800</td>\n",
       "      <td>NaN</td>\n",
       "      <td>NaN</td>\n",
       "      <td>83.73</td>\n",
       "      <td>0.868</td>\n",
       "    </tr>\n",
       "    <tr>\n",
       "      <th>...</th>\n",
       "      <td>...</td>\n",
       "      <td>...</td>\n",
       "      <td>...</td>\n",
       "      <td>...</td>\n",
       "      <td>...</td>\n",
       "      <td>...</td>\n",
       "      <td>...</td>\n",
       "      <td>...</td>\n",
       "      <td>...</td>\n",
       "      <td>...</td>\n",
       "      <td>...</td>\n",
       "      <td>...</td>\n",
       "      <td>...</td>\n",
       "      <td>...</td>\n",
       "      <td>...</td>\n",
       "      <td>...</td>\n",
       "      <td>...</td>\n",
       "      <td>...</td>\n",
       "    </tr>\n",
       "    <tr>\n",
       "      <th>232</th>\n",
       "      <td>WLF</td>\n",
       "      <td>Wallis and Futuna</td>\n",
       "      <td>Oceania</td>\n",
       "      <td>1.109400e+04</td>\n",
       "      <td>NaN</td>\n",
       "      <td>NaN</td>\n",
       "      <td>NaN</td>\n",
       "      <td>NaN</td>\n",
       "      <td>NaN</td>\n",
       "      <td>NaN</td>\n",
       "      <td>NaN</td>\n",
       "      <td>NaN</td>\n",
       "      <td>NaN</td>\n",
       "      <td>NaN</td>\n",
       "      <td>NaN</td>\n",
       "      <td>NaN</td>\n",
       "      <td>79.94</td>\n",
       "      <td>NaN</td>\n",
       "    </tr>\n",
       "    <tr>\n",
       "      <th>233</th>\n",
       "      <td>OWID_WRL</td>\n",
       "      <td>World</td>\n",
       "      <td>NaN</td>\n",
       "      <td>7.874966e+09</td>\n",
       "      <td>58.045</td>\n",
       "      <td>30.9</td>\n",
       "      <td>8.696</td>\n",
       "      <td>5.355</td>\n",
       "      <td>15469.207</td>\n",
       "      <td>10.0</td>\n",
       "      <td>233.070</td>\n",
       "      <td>8.51</td>\n",
       "      <td>6.434</td>\n",
       "      <td>34.635</td>\n",
       "      <td>60.130</td>\n",
       "      <td>2.705</td>\n",
       "      <td>72.58</td>\n",
       "      <td>0.737</td>\n",
       "    </tr>\n",
       "    <tr>\n",
       "      <th>234</th>\n",
       "      <td>YEM</td>\n",
       "      <td>Yemen</td>\n",
       "      <td>Asia</td>\n",
       "      <td>3.049064e+07</td>\n",
       "      <td>53.508</td>\n",
       "      <td>20.3</td>\n",
       "      <td>2.922</td>\n",
       "      <td>1.583</td>\n",
       "      <td>1479.147</td>\n",
       "      <td>18.8</td>\n",
       "      <td>495.003</td>\n",
       "      <td>5.35</td>\n",
       "      <td>7.600</td>\n",
       "      <td>29.200</td>\n",
       "      <td>49.542</td>\n",
       "      <td>0.700</td>\n",
       "      <td>66.12</td>\n",
       "      <td>0.470</td>\n",
       "    </tr>\n",
       "    <tr>\n",
       "      <th>235</th>\n",
       "      <td>ZMB</td>\n",
       "      <td>Zambia</td>\n",
       "      <td>Africa</td>\n",
       "      <td>1.892066e+07</td>\n",
       "      <td>22.995</td>\n",
       "      <td>17.7</td>\n",
       "      <td>2.480</td>\n",
       "      <td>1.542</td>\n",
       "      <td>3689.251</td>\n",
       "      <td>57.5</td>\n",
       "      <td>234.499</td>\n",
       "      <td>3.94</td>\n",
       "      <td>3.100</td>\n",
       "      <td>24.700</td>\n",
       "      <td>13.938</td>\n",
       "      <td>2.000</td>\n",
       "      <td>63.89</td>\n",
       "      <td>0.584</td>\n",
       "    </tr>\n",
       "    <tr>\n",
       "      <th>236</th>\n",
       "      <td>ZWE</td>\n",
       "      <td>Zimbabwe</td>\n",
       "      <td>Africa</td>\n",
       "      <td>1.509217e+07</td>\n",
       "      <td>42.729</td>\n",
       "      <td>19.6</td>\n",
       "      <td>2.822</td>\n",
       "      <td>1.882</td>\n",
       "      <td>1899.775</td>\n",
       "      <td>21.4</td>\n",
       "      <td>307.846</td>\n",
       "      <td>1.82</td>\n",
       "      <td>1.600</td>\n",
       "      <td>30.700</td>\n",
       "      <td>36.791</td>\n",
       "      <td>1.700</td>\n",
       "      <td>61.49</td>\n",
       "      <td>0.571</td>\n",
       "    </tr>\n",
       "  </tbody>\n",
       "</table>\n",
       "<p>237 rows × 18 columns</p>\n",
       "</div>"
      ],
      "text/plain": [
       "     iso_code           location continent    population  population_density  \\\n",
       "0         AFG        Afghanistan      Asia  3.983543e+07              54.422   \n",
       "1    OWID_AFR             Africa       NaN  1.373486e+09                 NaN   \n",
       "2         ALB            Albania    Europe  2.872934e+06             104.871   \n",
       "3         DZA            Algeria    Africa  4.461663e+07              17.348   \n",
       "4         AND            Andorra    Europe  7.735400e+04             163.755   \n",
       "..        ...                ...       ...           ...                 ...   \n",
       "232       WLF  Wallis and Futuna   Oceania  1.109400e+04                 NaN   \n",
       "233  OWID_WRL              World       NaN  7.874966e+09              58.045   \n",
       "234       YEM              Yemen      Asia  3.049064e+07              53.508   \n",
       "235       ZMB             Zambia    Africa  1.892066e+07              22.995   \n",
       "236       ZWE           Zimbabwe    Africa  1.509217e+07              42.729   \n",
       "\n",
       "     median_age  aged_65_older  aged_70_older  gdp_per_capita  \\\n",
       "0          18.6          2.581          1.337        1803.987   \n",
       "1           NaN            NaN            NaN             NaN   \n",
       "2          38.0         13.188          8.643       11803.431   \n",
       "3          29.1          6.211          3.857       13913.839   \n",
       "4           NaN            NaN            NaN             NaN   \n",
       "..          ...            ...            ...             ...   \n",
       "232         NaN            NaN            NaN             NaN   \n",
       "233        30.9          8.696          5.355       15469.207   \n",
       "234        20.3          2.922          1.583        1479.147   \n",
       "235        17.7          2.480          1.542        3689.251   \n",
       "236        19.6          2.822          1.882        1899.775   \n",
       "\n",
       "     extreme_poverty  cardiovasc_death_rate  diabetes_prevalence  \\\n",
       "0                NaN                597.029                 9.59   \n",
       "1                NaN                    NaN                  NaN   \n",
       "2                1.1                304.195                10.08   \n",
       "3                0.5                278.364                 6.73   \n",
       "4                NaN                109.135                 7.97   \n",
       "..               ...                    ...                  ...   \n",
       "232              NaN                    NaN                  NaN   \n",
       "233             10.0                233.070                 8.51   \n",
       "234             18.8                495.003                 5.35   \n",
       "235             57.5                234.499                 3.94   \n",
       "236             21.4                307.846                 1.82   \n",
       "\n",
       "     female_smokers  male_smokers  handwashing_facilities  \\\n",
       "0               NaN           NaN                  37.746   \n",
       "1               NaN           NaN                     NaN   \n",
       "2             7.100        51.200                     NaN   \n",
       "3             0.700        30.400                  83.741   \n",
       "4            29.000        37.800                     NaN   \n",
       "..              ...           ...                     ...   \n",
       "232             NaN           NaN                     NaN   \n",
       "233           6.434        34.635                  60.130   \n",
       "234           7.600        29.200                  49.542   \n",
       "235           3.100        24.700                  13.938   \n",
       "236           1.600        30.700                  36.791   \n",
       "\n",
       "     hospital_beds_per_thousand  life_expectancy  human_development_index  \n",
       "0                         0.500            64.83                    0.511  \n",
       "1                           NaN              NaN                      NaN  \n",
       "2                         2.890            78.57                    0.795  \n",
       "3                         1.900            76.88                    0.748  \n",
       "4                           NaN            83.73                    0.868  \n",
       "..                          ...              ...                      ...  \n",
       "232                         NaN            79.94                      NaN  \n",
       "233                       2.705            72.58                    0.737  \n",
       "234                       0.700            66.12                    0.470  \n",
       "235                       2.000            63.89                    0.584  \n",
       "236                       1.700            61.49                    0.571  \n",
       "\n",
       "[237 rows x 18 columns]"
      ]
     },
     "execution_count": 6,
     "metadata": {},
     "output_type": "execute_result"
    }
   ],
   "source": [
    "df_unique"
   ]
  },
  {
   "cell_type": "code",
   "execution_count": 7,
   "metadata": {},
   "outputs": [],
   "source": [
    "df = pd.merge(df_sum, df_unique, on=['iso_code', 'location', 'continent'])"
   ]
  },
  {
   "cell_type": "code",
   "execution_count": 8,
   "metadata": {},
   "outputs": [],
   "source": [
    "df.to_csv('covid_df.csv', index=False)"
   ]
  },
  {
   "cell_type": "code",
   "execution_count": 9,
   "metadata": {},
   "outputs": [
    {
     "data": {
      "text/plain": [
       "Index(['iso_code', 'location', 'continent', 'total_cases', 'total_deaths',\n",
       "       'total_cases_per_million', 'total_deaths_per_million',\n",
       "       'total_vaccinations', 'population', 'population_density', 'median_age',\n",
       "       'aged_65_older', 'aged_70_older', 'gdp_per_capita', 'extreme_poverty',\n",
       "       'cardiovasc_death_rate', 'diabetes_prevalence', 'female_smokers',\n",
       "       'male_smokers', 'handwashing_facilities', 'hospital_beds_per_thousand',\n",
       "       'life_expectancy', 'human_development_index'],\n",
       "      dtype='object')"
      ]
     },
     "execution_count": 9,
     "metadata": {},
     "output_type": "execute_result"
    }
   ],
   "source": [
    "df.columns"
   ]
  },
  {
   "cell_type": "code",
   "execution_count": 10,
   "metadata": {},
   "outputs": [
    {
     "data": {
      "application/vnd.plotly.v1+json": {
       "config": {
        "plotlyServerURL": "https://plot.ly"
       },
       "data": [
        {
         "customdata": [
          [
           "Aruba"
          ],
          [
           "Anguilla"
          ],
          [
           "Antigua and Barbuda"
          ],
          [
           "Bonaire Sint Eustatius and Saba"
          ],
          [
           "Bahamas"
          ],
          [
           "Belize"
          ],
          [
           "Bermuda"
          ],
          [
           "Barbados"
          ],
          [
           "Canada"
          ],
          [
           "Costa Rica"
          ],
          [
           "Cuba"
          ],
          [
           "Curacao"
          ],
          [
           "Cayman Islands"
          ],
          [
           "Dominica"
          ],
          [
           "Dominican Republic"
          ],
          [
           "Grenada"
          ],
          [
           "Greenland"
          ],
          [
           "Guatemala"
          ],
          [
           "Honduras"
          ],
          [
           "Haiti"
          ],
          [
           "Jamaica"
          ],
          [
           "Saint Kitts and Nevis"
          ],
          [
           "Saint Lucia"
          ],
          [
           "Mexico"
          ],
          [
           "Montserrat"
          ],
          [
           "Nicaragua"
          ],
          [
           "Panama"
          ],
          [
           "El Salvador"
          ],
          [
           "Sint Maarten (Dutch part)"
          ],
          [
           "Turks and Caicos Islands"
          ],
          [
           "Trinidad and Tobago"
          ],
          [
           "United States"
          ],
          [
           "Saint Vincent and the Grenadines"
          ],
          [
           "British Virgin Islands"
          ]
         ],
         "hovertemplate": "continent=North America<br>gdp_per_capita=%{x}<br>total_deaths_per_million=%{y}<br>location=%{customdata[0]}<extra></extra>",
         "legendgroup": "North America",
         "marker": {
          "color": "#636efa",
          "symbol": "circle"
         },
         "mode": "markers",
         "name": "North America",
         "orientation": "v",
         "showlegend": true,
         "type": "scatter",
         "x": [
          35973.781,
          null,
          21490.943,
          null,
          27717.847,
          7824.362,
          50669.315,
          16978.068,
          44017.591,
          15524.995,
          null,
          null,
          49903.029,
          9673.367,
          14600.861,
          13593.877,
          null,
          7423.808,
          4541.795,
          1653.173,
          8193.571,
          24654.385,
          12951.839,
          17336.469,
          null,
          5321.444,
          22267.037,
          7292.458,
          36327.232,
          null,
          28763.071,
          54225.446,
          10727.146,
          null
         ],
         "xaxis": "x",
         "y": [
          null,
          null,
          1053.4100000000005,
          null,
          1655.2479999999991,
          1247.2010000000007,
          null,
          580.4540000000004,
          766.2329999999998,
          1386.2400000000002,
          729.1169999999995,
          null,
          null,
          443.3899999999999,
          378.5020000000018,
          1751.9779999999996,
          null,
          837.3309999999993,
          1021.9290000000002,
          58.84200000000004,
          759.0470000000015,
          466.89499999999987,
          1409.9790000000003,
          2184.943999999998,
          null,
          31.17300000000004,
          1670.867999999999,
          562.1019999999977,
          null,
          null,
          1239.184000000001,
          2257.4989999999975,
          620.1109999999998,
          null
         ],
         "yaxis": "y"
        },
        {
         "customdata": [
          [
           "Afghanistan"
          ],
          [
           "United Arab Emirates"
          ],
          [
           "Armenia"
          ],
          [
           "Azerbaijan"
          ],
          [
           "Bangladesh"
          ],
          [
           "Bahrain"
          ],
          [
           "Brunei"
          ],
          [
           "Bhutan"
          ],
          [
           "China"
          ],
          [
           "Georgia"
          ],
          [
           "Hong Kong"
          ],
          [
           "Indonesia"
          ],
          [
           "India"
          ],
          [
           "Iran"
          ],
          [
           "Iraq"
          ],
          [
           "Israel"
          ],
          [
           "Jordan"
          ],
          [
           "Japan"
          ],
          [
           "Kazakhstan"
          ],
          [
           "Kyrgyzstan"
          ],
          [
           "Cambodia"
          ],
          [
           "South Korea"
          ],
          [
           "Kuwait"
          ],
          [
           "Laos"
          ],
          [
           "Lebanon"
          ],
          [
           "Sri Lanka"
          ],
          [
           "Macao"
          ],
          [
           "Maldives"
          ],
          [
           "Myanmar"
          ],
          [
           "Mongolia"
          ],
          [
           "Malaysia"
          ],
          [
           "Nepal"
          ],
          [
           "Oman"
          ],
          [
           "Northern Cyprus"
          ],
          [
           "Pakistan"
          ],
          [
           "Philippines"
          ],
          [
           "Palestine"
          ],
          [
           "Qatar"
          ],
          [
           "Saudi Arabia"
          ],
          [
           "Singapore"
          ],
          [
           "Syria"
          ],
          [
           "Thailand"
          ],
          [
           "Tajikistan"
          ],
          [
           "Turkmenistan"
          ],
          [
           "Timor"
          ],
          [
           "Turkey"
          ],
          [
           "Taiwan"
          ],
          [
           "Uzbekistan"
          ],
          [
           "Vietnam"
          ],
          [
           "Yemen"
          ]
         ],
         "hovertemplate": "continent=Asia<br>gdp_per_capita=%{x}<br>total_deaths_per_million=%{y}<br>location=%{customdata[0]}<extra></extra>",
         "legendgroup": "Asia",
         "marker": {
          "color": "#EF553B",
          "symbol": "circle"
         },
         "mode": "markers",
         "name": "Asia",
         "orientation": "v",
         "showlegend": true,
         "type": "scatter",
         "x": [
          1803.987,
          67293.483,
          8787.58,
          15847.419,
          3523.984,
          43290.705,
          71809.251,
          8708.597,
          15308.712,
          9745.079,
          56054.92,
          11188.744,
          6426.674,
          19082.62,
          15663.986,
          33132.32,
          8337.49,
          39002.223,
          24055.588,
          3393.474,
          3645.07,
          35938.374,
          65530.537,
          6397.36,
          13367.565,
          11669.077,
          104861.851,
          15183.616,
          5591.597,
          11840.846,
          26808.164,
          2442.804,
          37960.709,
          null,
          5034.708,
          7599.188,
          4449.898,
          116935.6,
          49045.411,
          85535.383,
          null,
          16277.671,
          2896.913,
          16389.023,
          6570.102,
          25129.341,
          null,
          6253.104,
          6171.884,
          1479.147
         ],
         "xaxis": "x",
         "y": [
          182.83100000000005,
          213.8169999999999,
          2200.7399999999975,
          702.5300000000011,
          167.61400000000003,
          796.7960000000019,
          206.1099999999998,
          3.846,
          3.195999999999999,
          2572.4949999999963,
          28.176000000000066,
          519.252,
          330.04900000000015,
          1492.6840000000009,
          565.1219999999995,
          922.9000000000017,
          1079.7550000000008,
          145.239,
          907.5100000000002,
          404.1900000000007,
          165.967,
          57.09900000000003,
          568.721999999999,
          10.313,
          1259.8150000000003,
          642.2560000000002,
          null,
          448.8949999999991,
          342.386,
          533.7390000000001,
          889.5839999999994,
          385.3729999999998,
          787.2019999999998,
          null,
          126.59200000000014,
          394.606,
          899.2970000000005,
          208.44599999999983,
          248.99699999999922,
          77.85999999999997,
          141.87700000000007,
          279.36400000000003,
          12.846999999999987,
          null,
          90.77099999999999,
          841.0450000000004,
          35.51700000000006,
          39.198999999999984,
          227.57199999999995,
          62.371000000000194
         ],
         "yaxis": "y"
        },
        {
         "customdata": [
          [
           "Angola"
          ],
          [
           "Burundi"
          ],
          [
           "Benin"
          ],
          [
           "Burkina Faso"
          ],
          [
           "Botswana"
          ],
          [
           "Central African Republic"
          ],
          [
           "Cote d'Ivoire"
          ],
          [
           "Cameroon"
          ],
          [
           "Democratic Republic of Congo"
          ],
          [
           "Congo"
          ],
          [
           "Comoros"
          ],
          [
           "Cape Verde"
          ],
          [
           "Djibouti"
          ],
          [
           "Algeria"
          ],
          [
           "Egypt"
          ],
          [
           "Eritrea"
          ],
          [
           "Ethiopia"
          ],
          [
           "Gabon"
          ],
          [
           "Ghana"
          ],
          [
           "Guinea"
          ],
          [
           "Gambia"
          ],
          [
           "Guinea-Bissau"
          ],
          [
           "Equatorial Guinea"
          ],
          [
           "Kenya"
          ],
          [
           "Liberia"
          ],
          [
           "Libya"
          ],
          [
           "Lesotho"
          ],
          [
           "Morocco"
          ],
          [
           "Madagascar"
          ],
          [
           "Mali"
          ],
          [
           "Mozambique"
          ],
          [
           "Mauritania"
          ],
          [
           "Mauritius"
          ],
          [
           "Malawi"
          ],
          [
           "Namibia"
          ],
          [
           "Niger"
          ],
          [
           "Nigeria"
          ],
          [
           "Rwanda"
          ],
          [
           "Sudan"
          ],
          [
           "Senegal"
          ],
          [
           "Saint Helena"
          ],
          [
           "Sierra Leone"
          ],
          [
           "Somalia"
          ],
          [
           "South Sudan"
          ],
          [
           "Sao Tome and Principe"
          ],
          [
           "Eswatini"
          ],
          [
           "Seychelles"
          ],
          [
           "Chad"
          ],
          [
           "Togo"
          ],
          [
           "Tunisia"
          ],
          [
           "Tanzania"
          ],
          [
           "Uganda"
          ],
          [
           "South Africa"
          ],
          [
           "Zambia"
          ],
          [
           "Zimbabwe"
          ]
         ],
         "hovertemplate": "continent=Africa<br>gdp_per_capita=%{x}<br>total_deaths_per_million=%{y}<br>location=%{customdata[0]}<extra></extra>",
         "legendgroup": "Africa",
         "marker": {
          "color": "#00cc96",
          "symbol": "circle"
         },
         "mode": "markers",
         "name": "Africa",
         "orientation": "v",
         "showlegend": true,
         "type": "scatter",
         "x": [
          5819.495,
          702.225,
          2064.236,
          1703.102,
          15807.374,
          661.24,
          3601.006,
          3364.926,
          808.133,
          4881.406,
          1413.89,
          6222.554,
          2705.406,
          13913.839,
          10550.206,
          1510.459,
          1729.927,
          16562.413,
          4227.63,
          1998.926,
          1561.767,
          1548.675,
          22604.873,
          2993.028,
          752.788,
          17881.509,
          2851.153,
          7485.013,
          1416.44,
          2014.306,
          1136.103,
          3597.633,
          20292.745,
          1095.042,
          9541.808,
          926,
          5338.454,
          1854.211,
          4466.507,
          2470.58,
          null,
          1390.3,
          null,
          1569.888,
          3052.714,
          7738.975,
          26382.287,
          1768.153,
          1429.813,
          10849.297,
          2683.304,
          1697.707,
          12294.876,
          3689.251,
          1899.775
         ],
         "xaxis": "x",
         "y": [
          50.563999999999965,
          3.1020000000000003,
          12.932999999999995,
          10.318999999999997,
          1004.0609999999998,
          20.32499999999999,
          25.751000000000005,
          63.577999999999996,
          11.888999999999996,
          52.51000000000001,
          165.4650000000001,
          621.1379999999986,
          182.60899999999992,
          133.0329999999997,
          181.17300000000014,
          12.499000000000006,
          55.17100000000002,
          109.2789999999999,
          37.29399999999998,
          28.5,
          137.10500000000002,
          70.93800000000003,
          115.87499999999999,
          96.3189999999999,
          55.397999999999996,
          743.1289999999988,
          304.7440000000001,
          393.58700000000067,
          33.89999999999992,
          27.35799999999986,
          60.03800000000001,
          167.70900000000017,
          156.271,
          117.18700000000003,
          1375.072000000001,
          8.777999999999995,
          13.721000000000027,
          100.31799999999984,
          69.01,
          109.22700000000017,
          null,
          14.872999999999992,
          73.83899999999993,
          11.69799999999999,
          250.7120000000002,
          1060.2739999999992,
          1203.105,
          10.329999999999997,
          28.673999999999985,
          2116.424,
          11.789,
          68.3399999999999,
          1486.4859999999996,
          193.57699999999988,
          310.4319999999993
         ],
         "yaxis": "y"
        },
        {
         "customdata": [
          [
           "Albania"
          ],
          [
           "Andorra"
          ],
          [
           "Austria"
          ],
          [
           "Belgium"
          ],
          [
           "Bulgaria"
          ],
          [
           "Bosnia and Herzegovina"
          ],
          [
           "Belarus"
          ],
          [
           "Switzerland"
          ],
          [
           "Cyprus"
          ],
          [
           "Czechia"
          ],
          [
           "Germany"
          ],
          [
           "Denmark"
          ],
          [
           "Spain"
          ],
          [
           "Estonia"
          ],
          [
           "Finland"
          ],
          [
           "France"
          ],
          [
           "Faeroe Islands"
          ],
          [
           "United Kingdom"
          ],
          [
           "Guernsey"
          ],
          [
           "Gibraltar"
          ],
          [
           "Greece"
          ],
          [
           "Croatia"
          ],
          [
           "Hungary"
          ],
          [
           "Isle of Man"
          ],
          [
           "Ireland"
          ],
          [
           "Iceland"
          ],
          [
           "Italy"
          ],
          [
           "Jersey"
          ],
          [
           "Liechtenstein"
          ],
          [
           "Lithuania"
          ],
          [
           "Luxembourg"
          ],
          [
           "Latvia"
          ],
          [
           "Monaco"
          ],
          [
           "Moldova"
          ],
          [
           "North Macedonia"
          ],
          [
           "Malta"
          ],
          [
           "Montenegro"
          ],
          [
           "Netherlands"
          ],
          [
           "Norway"
          ],
          [
           "Kosovo"
          ],
          [
           "Poland"
          ],
          [
           "Portugal"
          ],
          [
           "Romania"
          ],
          [
           "Russia"
          ],
          [
           "San Marino"
          ],
          [
           "Serbia"
          ],
          [
           "Slovakia"
          ],
          [
           "Slovenia"
          ],
          [
           "Sweden"
          ],
          [
           "Ukraine"
          ],
          [
           "Vatican"
          ]
         ],
         "hovertemplate": "continent=Europe<br>gdp_per_capita=%{x}<br>total_deaths_per_million=%{y}<br>location=%{customdata[0]}<extra></extra>",
         "legendgroup": "Europe",
         "marker": {
          "color": "#ab63fa",
          "symbol": "circle"
         },
         "mode": "markers",
         "name": "Europe",
         "orientation": "v",
         "showlegend": true,
         "type": "scatter",
         "x": [
          11803.431,
          null,
          45436.686,
          42658.576,
          18563.307,
          11713.895,
          17167.967,
          57410.166,
          32415.132,
          32605.906,
          45229.245,
          46682.515,
          34272.36,
          29481.252,
          40585.721,
          38605.671,
          null,
          39753.244,
          null,
          null,
          24574.382,
          22669.797,
          26777.561,
          null,
          67335.293,
          46482.958,
          35220.084,
          null,
          null,
          29524.265,
          94277.965,
          25063.846,
          null,
          5189.972,
          13111.214,
          36513.323,
          16409.288,
          48472.545,
          64800.057,
          9795.834,
          27216.445,
          27936.896,
          23313.199,
          24765.954,
          56861.47,
          14048.881,
          30155.152,
          31400.84,
          46949.283,
          7894.393,
          null
         ],
         "xaxis": "x",
         "y": [
          1024.6839999999997,
          1680.6100000000038,
          1262.7500000000055,
          2244.2019999999975,
          3589.471999999997,
          3590.365999999997,
          497.34000000000316,
          1292.513000000005,
          642.8159999999999,
          2879.148000000002,
          1148.417,
          469.06800000000163,
          1871.349999999997,
          1187.7670000000007,
          213.36900000000063,
          1758.376000000001,
          null,
          2079.3440000000014,
          null,
          null,
          1557.3509999999985,
          2294.1799999999957,
          3228.217999999998,
          null,
          1102.1609999999998,
          99.01400000000007,
          2191.309000000001,
          null,
          1594.6010000000003,
          2234.3410000000026,
          1337.4050000000025,
          1821.7170000000021,
          910.9379999999995,
          1977.7100000000023,
          3454.2080000000014,
          897.8269999999973,
          3383.463000000005,
          1102.6989999999962,
          168.3490000000002,
          1677.3870000000013,
          2047.640000000004,
          1788.357999999998,
          2593.2969999999987,
          1636.4900000000014,
          2705.076999999998,
          1476.9719999999977,
          2407.3720000000026,
          2305.709000000012,
          1481.2689999999989,
          1716.6010000000006,
          null
         ],
         "yaxis": "y"
        },
        {
         "customdata": [
          [
           "Argentina"
          ],
          [
           "Bolivia"
          ],
          [
           "Brazil"
          ],
          [
           "Chile"
          ],
          [
           "Colombia"
          ],
          [
           "Ecuador"
          ],
          [
           "Falkland Islands"
          ],
          [
           "Guyana"
          ],
          [
           "Peru"
          ],
          [
           "Paraguay"
          ],
          [
           "Suriname"
          ],
          [
           "Uruguay"
          ],
          [
           "Venezuela"
          ]
         ],
         "hovertemplate": "continent=South America<br>gdp_per_capita=%{x}<br>total_deaths_per_million=%{y}<br>location=%{customdata[0]}<extra></extra>",
         "legendgroup": "South America",
         "marker": {
          "color": "#FFA15A",
          "symbol": "circle"
         },
         "mode": "markers",
         "name": "South America",
         "orientation": "v",
         "showlegend": true,
         "type": "scatter",
         "x": [
          18933.907,
          6885.829,
          14103.452,
          22767.037,
          13254.949,
          10581.936,
          null,
          7435.047,
          12236.706,
          8827.01,
          13767.119,
          20551.409,
          16745.022
         ],
         "xaxis": "x",
         "y": [
          2544.7289999999994,
          1600.8189999999981,
          2844.3349999999987,
          1967.2069999999994,
          2485.440000000001,
          1137.3259999999998,
          null,
          1176.7350000000001,
          6005.807000000004,
          2251.680000000006,
          1860.4650000000013,
          1745.1410000000026,
          171.96900000000025
         ],
         "yaxis": "y"
        },
        {
         "customdata": [
          [
           "Australia"
          ],
          [
           "Cook Islands"
          ],
          [
           "Fiji"
          ],
          [
           "Micronesia (country)"
          ],
          [
           "Kiribati"
          ],
          [
           "Marshall Islands"
          ],
          [
           "New Caledonia"
          ],
          [
           "Niue"
          ],
          [
           "Nauru"
          ],
          [
           "New Zealand"
          ],
          [
           "Pitcairn"
          ],
          [
           "Palau"
          ],
          [
           "Papua New Guinea"
          ],
          [
           "French Polynesia"
          ],
          [
           "Solomon Islands"
          ],
          [
           "Tokelau"
          ],
          [
           "Tonga"
          ],
          [
           "Tuvalu"
          ],
          [
           "Vanuatu"
          ],
          [
           "Wallis and Futuna"
          ],
          [
           "Samoa"
          ]
         ],
         "hovertemplate": "continent=Oceania<br>gdp_per_capita=%{x}<br>total_deaths_per_million=%{y}<br>location=%{customdata[0]}<extra></extra>",
         "legendgroup": "Oceania",
         "marker": {
          "color": "#19d3f3",
          "symbol": "circle"
         },
         "mode": "markers",
         "name": "Oceania",
         "orientation": "v",
         "showlegend": true,
         "type": "scatter",
         "x": [
          44648.71,
          null,
          8702.975,
          3299.464,
          1981.132,
          3819.202,
          null,
          null,
          12895.635,
          36085.843,
          null,
          13240.405,
          3823.194,
          null,
          2205.923,
          null,
          5425.621,
          3575.104,
          2921.909,
          null,
          6021.557
         ],
         "xaxis": "x",
         "y": [
          69.62300000000015,
          null,
          746.4969999999994,
          null,
          null,
          null,
          null,
          null,
          null,
          5.969000000000002,
          null,
          null,
          42.990000000000016,
          null,
          null,
          null,
          null,
          null,
          3.18,
          null,
          null
         ],
         "yaxis": "y"
        }
       ],
       "layout": {
        "legend": {
         "title": {
          "text": "continent"
         },
         "tracegroupgap": 0
        },
        "margin": {
         "t": 60
        },
        "template": {
         "data": {
          "bar": [
           {
            "error_x": {
             "color": "#2a3f5f"
            },
            "error_y": {
             "color": "#2a3f5f"
            },
            "marker": {
             "line": {
              "color": "#E5ECF6",
              "width": 0.5
             },
             "pattern": {
              "fillmode": "overlay",
              "size": 10,
              "solidity": 0.2
             }
            },
            "type": "bar"
           }
          ],
          "barpolar": [
           {
            "marker": {
             "line": {
              "color": "#E5ECF6",
              "width": 0.5
             },
             "pattern": {
              "fillmode": "overlay",
              "size": 10,
              "solidity": 0.2
             }
            },
            "type": "barpolar"
           }
          ],
          "carpet": [
           {
            "aaxis": {
             "endlinecolor": "#2a3f5f",
             "gridcolor": "white",
             "linecolor": "white",
             "minorgridcolor": "white",
             "startlinecolor": "#2a3f5f"
            },
            "baxis": {
             "endlinecolor": "#2a3f5f",
             "gridcolor": "white",
             "linecolor": "white",
             "minorgridcolor": "white",
             "startlinecolor": "#2a3f5f"
            },
            "type": "carpet"
           }
          ],
          "choropleth": [
           {
            "colorbar": {
             "outlinewidth": 0,
             "ticks": ""
            },
            "type": "choropleth"
           }
          ],
          "contour": [
           {
            "colorbar": {
             "outlinewidth": 0,
             "ticks": ""
            },
            "colorscale": [
             [
              0,
              "#0d0887"
             ],
             [
              0.1111111111111111,
              "#46039f"
             ],
             [
              0.2222222222222222,
              "#7201a8"
             ],
             [
              0.3333333333333333,
              "#9c179e"
             ],
             [
              0.4444444444444444,
              "#bd3786"
             ],
             [
              0.5555555555555556,
              "#d8576b"
             ],
             [
              0.6666666666666666,
              "#ed7953"
             ],
             [
              0.7777777777777778,
              "#fb9f3a"
             ],
             [
              0.8888888888888888,
              "#fdca26"
             ],
             [
              1,
              "#f0f921"
             ]
            ],
            "type": "contour"
           }
          ],
          "contourcarpet": [
           {
            "colorbar": {
             "outlinewidth": 0,
             "ticks": ""
            },
            "type": "contourcarpet"
           }
          ],
          "heatmap": [
           {
            "colorbar": {
             "outlinewidth": 0,
             "ticks": ""
            },
            "colorscale": [
             [
              0,
              "#0d0887"
             ],
             [
              0.1111111111111111,
              "#46039f"
             ],
             [
              0.2222222222222222,
              "#7201a8"
             ],
             [
              0.3333333333333333,
              "#9c179e"
             ],
             [
              0.4444444444444444,
              "#bd3786"
             ],
             [
              0.5555555555555556,
              "#d8576b"
             ],
             [
              0.6666666666666666,
              "#ed7953"
             ],
             [
              0.7777777777777778,
              "#fb9f3a"
             ],
             [
              0.8888888888888888,
              "#fdca26"
             ],
             [
              1,
              "#f0f921"
             ]
            ],
            "type": "heatmap"
           }
          ],
          "heatmapgl": [
           {
            "colorbar": {
             "outlinewidth": 0,
             "ticks": ""
            },
            "colorscale": [
             [
              0,
              "#0d0887"
             ],
             [
              0.1111111111111111,
              "#46039f"
             ],
             [
              0.2222222222222222,
              "#7201a8"
             ],
             [
              0.3333333333333333,
              "#9c179e"
             ],
             [
              0.4444444444444444,
              "#bd3786"
             ],
             [
              0.5555555555555556,
              "#d8576b"
             ],
             [
              0.6666666666666666,
              "#ed7953"
             ],
             [
              0.7777777777777778,
              "#fb9f3a"
             ],
             [
              0.8888888888888888,
              "#fdca26"
             ],
             [
              1,
              "#f0f921"
             ]
            ],
            "type": "heatmapgl"
           }
          ],
          "histogram": [
           {
            "marker": {
             "pattern": {
              "fillmode": "overlay",
              "size": 10,
              "solidity": 0.2
             }
            },
            "type": "histogram"
           }
          ],
          "histogram2d": [
           {
            "colorbar": {
             "outlinewidth": 0,
             "ticks": ""
            },
            "colorscale": [
             [
              0,
              "#0d0887"
             ],
             [
              0.1111111111111111,
              "#46039f"
             ],
             [
              0.2222222222222222,
              "#7201a8"
             ],
             [
              0.3333333333333333,
              "#9c179e"
             ],
             [
              0.4444444444444444,
              "#bd3786"
             ],
             [
              0.5555555555555556,
              "#d8576b"
             ],
             [
              0.6666666666666666,
              "#ed7953"
             ],
             [
              0.7777777777777778,
              "#fb9f3a"
             ],
             [
              0.8888888888888888,
              "#fdca26"
             ],
             [
              1,
              "#f0f921"
             ]
            ],
            "type": "histogram2d"
           }
          ],
          "histogram2dcontour": [
           {
            "colorbar": {
             "outlinewidth": 0,
             "ticks": ""
            },
            "colorscale": [
             [
              0,
              "#0d0887"
             ],
             [
              0.1111111111111111,
              "#46039f"
             ],
             [
              0.2222222222222222,
              "#7201a8"
             ],
             [
              0.3333333333333333,
              "#9c179e"
             ],
             [
              0.4444444444444444,
              "#bd3786"
             ],
             [
              0.5555555555555556,
              "#d8576b"
             ],
             [
              0.6666666666666666,
              "#ed7953"
             ],
             [
              0.7777777777777778,
              "#fb9f3a"
             ],
             [
              0.8888888888888888,
              "#fdca26"
             ],
             [
              1,
              "#f0f921"
             ]
            ],
            "type": "histogram2dcontour"
           }
          ],
          "mesh3d": [
           {
            "colorbar": {
             "outlinewidth": 0,
             "ticks": ""
            },
            "type": "mesh3d"
           }
          ],
          "parcoords": [
           {
            "line": {
             "colorbar": {
              "outlinewidth": 0,
              "ticks": ""
             }
            },
            "type": "parcoords"
           }
          ],
          "pie": [
           {
            "automargin": true,
            "type": "pie"
           }
          ],
          "scatter": [
           {
            "marker": {
             "colorbar": {
              "outlinewidth": 0,
              "ticks": ""
             }
            },
            "type": "scatter"
           }
          ],
          "scatter3d": [
           {
            "line": {
             "colorbar": {
              "outlinewidth": 0,
              "ticks": ""
             }
            },
            "marker": {
             "colorbar": {
              "outlinewidth": 0,
              "ticks": ""
             }
            },
            "type": "scatter3d"
           }
          ],
          "scattercarpet": [
           {
            "marker": {
             "colorbar": {
              "outlinewidth": 0,
              "ticks": ""
             }
            },
            "type": "scattercarpet"
           }
          ],
          "scattergeo": [
           {
            "marker": {
             "colorbar": {
              "outlinewidth": 0,
              "ticks": ""
             }
            },
            "type": "scattergeo"
           }
          ],
          "scattergl": [
           {
            "marker": {
             "colorbar": {
              "outlinewidth": 0,
              "ticks": ""
             }
            },
            "type": "scattergl"
           }
          ],
          "scattermapbox": [
           {
            "marker": {
             "colorbar": {
              "outlinewidth": 0,
              "ticks": ""
             }
            },
            "type": "scattermapbox"
           }
          ],
          "scatterpolar": [
           {
            "marker": {
             "colorbar": {
              "outlinewidth": 0,
              "ticks": ""
             }
            },
            "type": "scatterpolar"
           }
          ],
          "scatterpolargl": [
           {
            "marker": {
             "colorbar": {
              "outlinewidth": 0,
              "ticks": ""
             }
            },
            "type": "scatterpolargl"
           }
          ],
          "scatterternary": [
           {
            "marker": {
             "colorbar": {
              "outlinewidth": 0,
              "ticks": ""
             }
            },
            "type": "scatterternary"
           }
          ],
          "surface": [
           {
            "colorbar": {
             "outlinewidth": 0,
             "ticks": ""
            },
            "colorscale": [
             [
              0,
              "#0d0887"
             ],
             [
              0.1111111111111111,
              "#46039f"
             ],
             [
              0.2222222222222222,
              "#7201a8"
             ],
             [
              0.3333333333333333,
              "#9c179e"
             ],
             [
              0.4444444444444444,
              "#bd3786"
             ],
             [
              0.5555555555555556,
              "#d8576b"
             ],
             [
              0.6666666666666666,
              "#ed7953"
             ],
             [
              0.7777777777777778,
              "#fb9f3a"
             ],
             [
              0.8888888888888888,
              "#fdca26"
             ],
             [
              1,
              "#f0f921"
             ]
            ],
            "type": "surface"
           }
          ],
          "table": [
           {
            "cells": {
             "fill": {
              "color": "#EBF0F8"
             },
             "line": {
              "color": "white"
             }
            },
            "header": {
             "fill": {
              "color": "#C8D4E3"
             },
             "line": {
              "color": "white"
             }
            },
            "type": "table"
           }
          ]
         },
         "layout": {
          "annotationdefaults": {
           "arrowcolor": "#2a3f5f",
           "arrowhead": 0,
           "arrowwidth": 1
          },
          "autotypenumbers": "strict",
          "coloraxis": {
           "colorbar": {
            "outlinewidth": 0,
            "ticks": ""
           }
          },
          "colorscale": {
           "diverging": [
            [
             0,
             "#8e0152"
            ],
            [
             0.1,
             "#c51b7d"
            ],
            [
             0.2,
             "#de77ae"
            ],
            [
             0.3,
             "#f1b6da"
            ],
            [
             0.4,
             "#fde0ef"
            ],
            [
             0.5,
             "#f7f7f7"
            ],
            [
             0.6,
             "#e6f5d0"
            ],
            [
             0.7,
             "#b8e186"
            ],
            [
             0.8,
             "#7fbc41"
            ],
            [
             0.9,
             "#4d9221"
            ],
            [
             1,
             "#276419"
            ]
           ],
           "sequential": [
            [
             0,
             "#0d0887"
            ],
            [
             0.1111111111111111,
             "#46039f"
            ],
            [
             0.2222222222222222,
             "#7201a8"
            ],
            [
             0.3333333333333333,
             "#9c179e"
            ],
            [
             0.4444444444444444,
             "#bd3786"
            ],
            [
             0.5555555555555556,
             "#d8576b"
            ],
            [
             0.6666666666666666,
             "#ed7953"
            ],
            [
             0.7777777777777778,
             "#fb9f3a"
            ],
            [
             0.8888888888888888,
             "#fdca26"
            ],
            [
             1,
             "#f0f921"
            ]
           ],
           "sequentialminus": [
            [
             0,
             "#0d0887"
            ],
            [
             0.1111111111111111,
             "#46039f"
            ],
            [
             0.2222222222222222,
             "#7201a8"
            ],
            [
             0.3333333333333333,
             "#9c179e"
            ],
            [
             0.4444444444444444,
             "#bd3786"
            ],
            [
             0.5555555555555556,
             "#d8576b"
            ],
            [
             0.6666666666666666,
             "#ed7953"
            ],
            [
             0.7777777777777778,
             "#fb9f3a"
            ],
            [
             0.8888888888888888,
             "#fdca26"
            ],
            [
             1,
             "#f0f921"
            ]
           ]
          },
          "colorway": [
           "#636efa",
           "#EF553B",
           "#00cc96",
           "#ab63fa",
           "#FFA15A",
           "#19d3f3",
           "#FF6692",
           "#B6E880",
           "#FF97FF",
           "#FECB52"
          ],
          "font": {
           "color": "#2a3f5f"
          },
          "geo": {
           "bgcolor": "white",
           "lakecolor": "white",
           "landcolor": "#E5ECF6",
           "showlakes": true,
           "showland": true,
           "subunitcolor": "white"
          },
          "hoverlabel": {
           "align": "left"
          },
          "hovermode": "closest",
          "mapbox": {
           "style": "light"
          },
          "paper_bgcolor": "white",
          "plot_bgcolor": "#E5ECF6",
          "polar": {
           "angularaxis": {
            "gridcolor": "white",
            "linecolor": "white",
            "ticks": ""
           },
           "bgcolor": "#E5ECF6",
           "radialaxis": {
            "gridcolor": "white",
            "linecolor": "white",
            "ticks": ""
           }
          },
          "scene": {
           "xaxis": {
            "backgroundcolor": "#E5ECF6",
            "gridcolor": "white",
            "gridwidth": 2,
            "linecolor": "white",
            "showbackground": true,
            "ticks": "",
            "zerolinecolor": "white"
           },
           "yaxis": {
            "backgroundcolor": "#E5ECF6",
            "gridcolor": "white",
            "gridwidth": 2,
            "linecolor": "white",
            "showbackground": true,
            "ticks": "",
            "zerolinecolor": "white"
           },
           "zaxis": {
            "backgroundcolor": "#E5ECF6",
            "gridcolor": "white",
            "gridwidth": 2,
            "linecolor": "white",
            "showbackground": true,
            "ticks": "",
            "zerolinecolor": "white"
           }
          },
          "shapedefaults": {
           "line": {
            "color": "#2a3f5f"
           }
          },
          "ternary": {
           "aaxis": {
            "gridcolor": "white",
            "linecolor": "white",
            "ticks": ""
           },
           "baxis": {
            "gridcolor": "white",
            "linecolor": "white",
            "ticks": ""
           },
           "bgcolor": "#E5ECF6",
           "caxis": {
            "gridcolor": "white",
            "linecolor": "white",
            "ticks": ""
           }
          },
          "title": {
           "x": 0.05
          },
          "xaxis": {
           "automargin": true,
           "gridcolor": "white",
           "linecolor": "white",
           "ticks": "",
           "title": {
            "standoff": 15
           },
           "zerolinecolor": "white",
           "zerolinewidth": 2
          },
          "yaxis": {
           "automargin": true,
           "gridcolor": "white",
           "linecolor": "white",
           "ticks": "",
           "title": {
            "standoff": 15
           },
           "zerolinecolor": "white",
           "zerolinewidth": 2
          }
         }
        },
        "xaxis": {
         "anchor": "y",
         "domain": [
          0,
          1
         ],
         "title": {
          "text": "gdp_per_capita"
         }
        },
        "yaxis": {
         "anchor": "x",
         "domain": [
          0,
          1
         ],
         "title": {
          "text": "total_deaths_per_million"
         }
        }
       }
      }
     },
     "metadata": {},
     "output_type": "display_data"
    }
   ],
   "source": [
    "px.scatter(df, 'gdp_per_capita', 'total_deaths_per_million', color='continent', hover_data=['location'])"
   ]
  },
  {
   "cell_type": "code",
   "execution_count": 11,
   "metadata": {},
   "outputs": [
    {
     "data": {
      "text/html": [
       "<div>\n",
       "<style scoped>\n",
       "    .dataframe tbody tr th:only-of-type {\n",
       "        vertical-align: middle;\n",
       "    }\n",
       "\n",
       "    .dataframe tbody tr th {\n",
       "        vertical-align: top;\n",
       "    }\n",
       "\n",
       "    .dataframe thead th {\n",
       "        text-align: right;\n",
       "    }\n",
       "</style>\n",
       "<table border=\"1\" class=\"dataframe\">\n",
       "  <thead>\n",
       "    <tr style=\"text-align: right;\">\n",
       "      <th></th>\n",
       "      <th>total_cases</th>\n",
       "      <th>total_deaths</th>\n",
       "      <th>total_cases_per_million</th>\n",
       "      <th>total_deaths_per_million</th>\n",
       "      <th>total_vaccinations</th>\n",
       "      <th>population</th>\n",
       "      <th>population_density</th>\n",
       "      <th>median_age</th>\n",
       "      <th>aged_65_older</th>\n",
       "      <th>aged_70_older</th>\n",
       "      <th>gdp_per_capita</th>\n",
       "      <th>extreme_poverty</th>\n",
       "      <th>cardiovasc_death_rate</th>\n",
       "      <th>diabetes_prevalence</th>\n",
       "      <th>female_smokers</th>\n",
       "      <th>male_smokers</th>\n",
       "      <th>handwashing_facilities</th>\n",
       "      <th>hospital_beds_per_thousand</th>\n",
       "      <th>life_expectancy</th>\n",
       "      <th>human_development_index</th>\n",
       "    </tr>\n",
       "  </thead>\n",
       "  <tbody>\n",
       "    <tr>\n",
       "      <th>total_cases</th>\n",
       "      <td>1.000000</td>\n",
       "      <td>0.934057</td>\n",
       "      <td>0.174822</td>\n",
       "      <td>0.212464</td>\n",
       "      <td>0.366110</td>\n",
       "      <td>0.512368</td>\n",
       "      <td>-0.030605</td>\n",
       "      <td>0.160332</td>\n",
       "      <td>0.154883</td>\n",
       "      <td>0.148134</td>\n",
       "      <td>0.128784</td>\n",
       "      <td>-0.127453</td>\n",
       "      <td>-0.122584</td>\n",
       "      <td>0.031206</td>\n",
       "      <td>0.092740</td>\n",
       "      <td>-0.077176</td>\n",
       "      <td>0.105829</td>\n",
       "      <td>0.002238</td>\n",
       "      <td>0.128173</td>\n",
       "      <td>0.168201</td>\n",
       "    </tr>\n",
       "    <tr>\n",
       "      <th>total_deaths</th>\n",
       "      <td>0.934057</td>\n",
       "      <td>1.000000</td>\n",
       "      <td>0.156999</td>\n",
       "      <td>0.330795</td>\n",
       "      <td>0.314907</td>\n",
       "      <td>0.435482</td>\n",
       "      <td>-0.042651</td>\n",
       "      <td>0.156947</td>\n",
       "      <td>0.143235</td>\n",
       "      <td>0.138055</td>\n",
       "      <td>0.092471</td>\n",
       "      <td>-0.157093</td>\n",
       "      <td>-0.125241</td>\n",
       "      <td>0.055372</td>\n",
       "      <td>0.093874</td>\n",
       "      <td>-0.066347</td>\n",
       "      <td>0.163881</td>\n",
       "      <td>0.000313</td>\n",
       "      <td>0.129136</td>\n",
       "      <td>0.168342</td>\n",
       "    </tr>\n",
       "    <tr>\n",
       "      <th>total_cases_per_million</th>\n",
       "      <td>0.174822</td>\n",
       "      <td>0.156999</td>\n",
       "      <td>1.000000</td>\n",
       "      <td>0.690915</td>\n",
       "      <td>-0.080792</td>\n",
       "      <td>-0.103222</td>\n",
       "      <td>0.038617</td>\n",
       "      <td>0.633754</td>\n",
       "      <td>0.570406</td>\n",
       "      <td>0.565950</td>\n",
       "      <td>0.448004</td>\n",
       "      <td>-0.535287</td>\n",
       "      <td>-0.255387</td>\n",
       "      <td>0.032692</td>\n",
       "      <td>0.564650</td>\n",
       "      <td>0.172107</td>\n",
       "      <td>0.609856</td>\n",
       "      <td>0.357363</td>\n",
       "      <td>0.583977</td>\n",
       "      <td>0.647801</td>\n",
       "    </tr>\n",
       "    <tr>\n",
       "      <th>total_deaths_per_million</th>\n",
       "      <td>0.212464</td>\n",
       "      <td>0.330795</td>\n",
       "      <td>0.690915</td>\n",
       "      <td>1.000000</td>\n",
       "      <td>-0.053281</td>\n",
       "      <td>-0.071585</td>\n",
       "      <td>-0.052514</td>\n",
       "      <td>0.533792</td>\n",
       "      <td>0.522953</td>\n",
       "      <td>0.517476</td>\n",
       "      <td>0.183290</td>\n",
       "      <td>-0.468993</td>\n",
       "      <td>-0.146859</td>\n",
       "      <td>0.056988</td>\n",
       "      <td>0.542774</td>\n",
       "      <td>0.161592</td>\n",
       "      <td>0.553514</td>\n",
       "      <td>0.293848</td>\n",
       "      <td>0.445225</td>\n",
       "      <td>0.502736</td>\n",
       "    </tr>\n",
       "    <tr>\n",
       "      <th>total_vaccinations</th>\n",
       "      <td>0.366110</td>\n",
       "      <td>0.314907</td>\n",
       "      <td>-0.080792</td>\n",
       "      <td>-0.053281</td>\n",
       "      <td>1.000000</td>\n",
       "      <td>0.925241</td>\n",
       "      <td>-0.020541</td>\n",
       "      <td>0.097777</td>\n",
       "      <td>0.051770</td>\n",
       "      <td>0.035962</td>\n",
       "      <td>-0.006356</td>\n",
       "      <td>-0.064160</td>\n",
       "      <td>-0.033702</td>\n",
       "      <td>0.050063</td>\n",
       "      <td>-0.084589</td>\n",
       "      <td>0.066587</td>\n",
       "      <td>0.062989</td>\n",
       "      <td>0.036388</td>\n",
       "      <td>0.054703</td>\n",
       "      <td>0.041009</td>\n",
       "    </tr>\n",
       "    <tr>\n",
       "      <th>population</th>\n",
       "      <td>0.512368</td>\n",
       "      <td>0.435482</td>\n",
       "      <td>-0.103222</td>\n",
       "      <td>-0.071585</td>\n",
       "      <td>0.925241</td>\n",
       "      <td>1.000000</td>\n",
       "      <td>-0.028066</td>\n",
       "      <td>0.032107</td>\n",
       "      <td>-0.001784</td>\n",
       "      <td>-0.013840</td>\n",
       "      <td>-0.051248</td>\n",
       "      <td>-0.037456</td>\n",
       "      <td>-0.008687</td>\n",
       "      <td>-0.004276</td>\n",
       "      <td>-0.124605</td>\n",
       "      <td>0.021783</td>\n",
       "      <td>0.033667</td>\n",
       "      <td>-0.041820</td>\n",
       "      <td>-0.024398</td>\n",
       "      <td>-0.016980</td>\n",
       "    </tr>\n",
       "    <tr>\n",
       "      <th>population_density</th>\n",
       "      <td>-0.030605</td>\n",
       "      <td>-0.042651</td>\n",
       "      <td>0.038617</td>\n",
       "      <td>-0.052514</td>\n",
       "      <td>-0.020541</td>\n",
       "      <td>-0.028066</td>\n",
       "      <td>1.000000</td>\n",
       "      <td>0.148996</td>\n",
       "      <td>0.063253</td>\n",
       "      <td>0.031729</td>\n",
       "      <td>0.409115</td>\n",
       "      <td>-0.033639</td>\n",
       "      <td>-0.176599</td>\n",
       "      <td>0.011056</td>\n",
       "      <td>-0.046626</td>\n",
       "      <td>0.000888</td>\n",
       "      <td>0.091626</td>\n",
       "      <td>0.309588</td>\n",
       "      <td>0.231069</td>\n",
       "      <td>0.179682</td>\n",
       "    </tr>\n",
       "    <tr>\n",
       "      <th>median_age</th>\n",
       "      <td>0.160332</td>\n",
       "      <td>0.156947</td>\n",
       "      <td>0.633754</td>\n",
       "      <td>0.533792</td>\n",
       "      <td>0.097777</td>\n",
       "      <td>0.032107</td>\n",
       "      <td>0.148996</td>\n",
       "      <td>1.000000</td>\n",
       "      <td>0.913454</td>\n",
       "      <td>0.897650</td>\n",
       "      <td>0.643436</td>\n",
       "      <td>-0.697290</td>\n",
       "      <td>-0.340794</td>\n",
       "      <td>0.137148</td>\n",
       "      <td>0.635594</td>\n",
       "      <td>0.174119</td>\n",
       "      <td>0.781097</td>\n",
       "      <td>0.649012</td>\n",
       "      <td>0.845540</td>\n",
       "      <td>0.897594</td>\n",
       "    </tr>\n",
       "    <tr>\n",
       "      <th>aged_65_older</th>\n",
       "      <td>0.154883</td>\n",
       "      <td>0.143235</td>\n",
       "      <td>0.570406</td>\n",
       "      <td>0.522953</td>\n",
       "      <td>0.051770</td>\n",
       "      <td>-0.001784</td>\n",
       "      <td>0.063253</td>\n",
       "      <td>0.913454</td>\n",
       "      <td>1.000000</td>\n",
       "      <td>0.994416</td>\n",
       "      <td>0.492855</td>\n",
       "      <td>-0.574047</td>\n",
       "      <td>-0.340430</td>\n",
       "      <td>-0.063584</td>\n",
       "      <td>0.733061</td>\n",
       "      <td>0.084517</td>\n",
       "      <td>0.628682</td>\n",
       "      <td>0.635134</td>\n",
       "      <td>0.729937</td>\n",
       "      <td>0.780512</td>\n",
       "    </tr>\n",
       "    <tr>\n",
       "      <th>aged_70_older</th>\n",
       "      <td>0.148134</td>\n",
       "      <td>0.138055</td>\n",
       "      <td>0.565950</td>\n",
       "      <td>0.517476</td>\n",
       "      <td>0.035962</td>\n",
       "      <td>-0.013840</td>\n",
       "      <td>0.031729</td>\n",
       "      <td>0.897650</td>\n",
       "      <td>0.994416</td>\n",
       "      <td>1.000000</td>\n",
       "      <td>0.477828</td>\n",
       "      <td>-0.557994</td>\n",
       "      <td>-0.354783</td>\n",
       "      <td>-0.091368</td>\n",
       "      <td>0.733614</td>\n",
       "      <td>0.083907</td>\n",
       "      <td>0.624506</td>\n",
       "      <td>0.635943</td>\n",
       "      <td>0.716108</td>\n",
       "      <td>0.768762</td>\n",
       "    </tr>\n",
       "    <tr>\n",
       "      <th>gdp_per_capita</th>\n",
       "      <td>0.128784</td>\n",
       "      <td>0.092471</td>\n",
       "      <td>0.448004</td>\n",
       "      <td>0.183290</td>\n",
       "      <td>-0.006356</td>\n",
       "      <td>-0.051248</td>\n",
       "      <td>0.409115</td>\n",
       "      <td>0.643436</td>\n",
       "      <td>0.492855</td>\n",
       "      <td>0.477828</td>\n",
       "      <td>1.000000</td>\n",
       "      <td>-0.502403</td>\n",
       "      <td>-0.472432</td>\n",
       "      <td>0.120561</td>\n",
       "      <td>0.308848</td>\n",
       "      <td>-0.102095</td>\n",
       "      <td>0.655516</td>\n",
       "      <td>0.290927</td>\n",
       "      <td>0.680858</td>\n",
       "      <td>0.753171</td>\n",
       "    </tr>\n",
       "    <tr>\n",
       "      <th>extreme_poverty</th>\n",
       "      <td>-0.127453</td>\n",
       "      <td>-0.157093</td>\n",
       "      <td>-0.535287</td>\n",
       "      <td>-0.468993</td>\n",
       "      <td>-0.064160</td>\n",
       "      <td>-0.037456</td>\n",
       "      <td>-0.033639</td>\n",
       "      <td>-0.697290</td>\n",
       "      <td>-0.574047</td>\n",
       "      <td>-0.557994</td>\n",
       "      <td>-0.502403</td>\n",
       "      <td>1.000000</td>\n",
       "      <td>0.189471</td>\n",
       "      <td>-0.378415</td>\n",
       "      <td>-0.411692</td>\n",
       "      <td>-0.192223</td>\n",
       "      <td>-0.751043</td>\n",
       "      <td>-0.443556</td>\n",
       "      <td>-0.747547</td>\n",
       "      <td>-0.777256</td>\n",
       "    </tr>\n",
       "    <tr>\n",
       "      <th>cardiovasc_death_rate</th>\n",
       "      <td>-0.122584</td>\n",
       "      <td>-0.125241</td>\n",
       "      <td>-0.255387</td>\n",
       "      <td>-0.146859</td>\n",
       "      <td>-0.033702</td>\n",
       "      <td>-0.008687</td>\n",
       "      <td>-0.176599</td>\n",
       "      <td>-0.340794</td>\n",
       "      <td>-0.340430</td>\n",
       "      <td>-0.354783</td>\n",
       "      <td>-0.472432</td>\n",
       "      <td>0.189471</td>\n",
       "      <td>1.000000</td>\n",
       "      <td>0.143445</td>\n",
       "      <td>-0.142891</td>\n",
       "      <td>0.426005</td>\n",
       "      <td>-0.003417</td>\n",
       "      <td>0.037033</td>\n",
       "      <td>-0.467843</td>\n",
       "      <td>-0.422122</td>\n",
       "    </tr>\n",
       "    <tr>\n",
       "      <th>diabetes_prevalence</th>\n",
       "      <td>0.031206</td>\n",
       "      <td>0.055372</td>\n",
       "      <td>0.032692</td>\n",
       "      <td>0.056988</td>\n",
       "      <td>0.050063</td>\n",
       "      <td>-0.004276</td>\n",
       "      <td>0.011056</td>\n",
       "      <td>0.137148</td>\n",
       "      <td>-0.063584</td>\n",
       "      <td>-0.091368</td>\n",
       "      <td>0.120561</td>\n",
       "      <td>-0.378415</td>\n",
       "      <td>0.143445</td>\n",
       "      <td>1.000000</td>\n",
       "      <td>0.086033</td>\n",
       "      <td>0.201028</td>\n",
       "      <td>0.466853</td>\n",
       "      <td>-0.055739</td>\n",
       "      <td>0.189735</td>\n",
       "      <td>0.199447</td>\n",
       "    </tr>\n",
       "    <tr>\n",
       "      <th>female_smokers</th>\n",
       "      <td>0.092740</td>\n",
       "      <td>0.093874</td>\n",
       "      <td>0.564650</td>\n",
       "      <td>0.542774</td>\n",
       "      <td>-0.084589</td>\n",
       "      <td>-0.124605</td>\n",
       "      <td>-0.046626</td>\n",
       "      <td>0.635594</td>\n",
       "      <td>0.733061</td>\n",
       "      <td>0.733614</td>\n",
       "      <td>0.308848</td>\n",
       "      <td>-0.411692</td>\n",
       "      <td>-0.142891</td>\n",
       "      <td>0.086033</td>\n",
       "      <td>1.000000</td>\n",
       "      <td>0.227019</td>\n",
       "      <td>0.296452</td>\n",
       "      <td>0.473420</td>\n",
       "      <td>0.437186</td>\n",
       "      <td>0.554454</td>\n",
       "    </tr>\n",
       "    <tr>\n",
       "      <th>male_smokers</th>\n",
       "      <td>-0.077176</td>\n",
       "      <td>-0.066347</td>\n",
       "      <td>0.172107</td>\n",
       "      <td>0.161592</td>\n",
       "      <td>0.066587</td>\n",
       "      <td>0.021783</td>\n",
       "      <td>0.000888</td>\n",
       "      <td>0.174119</td>\n",
       "      <td>0.084517</td>\n",
       "      <td>0.083907</td>\n",
       "      <td>-0.102095</td>\n",
       "      <td>-0.192223</td>\n",
       "      <td>0.426005</td>\n",
       "      <td>0.201028</td>\n",
       "      <td>0.227019</td>\n",
       "      <td>1.000000</td>\n",
       "      <td>0.326753</td>\n",
       "      <td>0.347571</td>\n",
       "      <td>0.051577</td>\n",
       "      <td>0.089271</td>\n",
       "    </tr>\n",
       "    <tr>\n",
       "      <th>handwashing_facilities</th>\n",
       "      <td>0.105829</td>\n",
       "      <td>0.163881</td>\n",
       "      <td>0.609856</td>\n",
       "      <td>0.553514</td>\n",
       "      <td>0.062989</td>\n",
       "      <td>0.033667</td>\n",
       "      <td>0.091626</td>\n",
       "      <td>0.781097</td>\n",
       "      <td>0.628682</td>\n",
       "      <td>0.624506</td>\n",
       "      <td>0.655516</td>\n",
       "      <td>-0.751043</td>\n",
       "      <td>-0.003417</td>\n",
       "      <td>0.466853</td>\n",
       "      <td>0.296452</td>\n",
       "      <td>0.326753</td>\n",
       "      <td>1.000000</td>\n",
       "      <td>0.473710</td>\n",
       "      <td>0.805976</td>\n",
       "      <td>0.836244</td>\n",
       "    </tr>\n",
       "    <tr>\n",
       "      <th>hospital_beds_per_thousand</th>\n",
       "      <td>0.002238</td>\n",
       "      <td>0.000313</td>\n",
       "      <td>0.357363</td>\n",
       "      <td>0.293848</td>\n",
       "      <td>0.036388</td>\n",
       "      <td>-0.041820</td>\n",
       "      <td>0.309588</td>\n",
       "      <td>0.649012</td>\n",
       "      <td>0.635134</td>\n",
       "      <td>0.635943</td>\n",
       "      <td>0.290927</td>\n",
       "      <td>-0.443556</td>\n",
       "      <td>0.037033</td>\n",
       "      <td>-0.055739</td>\n",
       "      <td>0.473420</td>\n",
       "      <td>0.347571</td>\n",
       "      <td>0.473710</td>\n",
       "      <td>1.000000</td>\n",
       "      <td>0.442315</td>\n",
       "      <td>0.557107</td>\n",
       "    </tr>\n",
       "    <tr>\n",
       "      <th>life_expectancy</th>\n",
       "      <td>0.128173</td>\n",
       "      <td>0.129136</td>\n",
       "      <td>0.583977</td>\n",
       "      <td>0.445225</td>\n",
       "      <td>0.054703</td>\n",
       "      <td>-0.024398</td>\n",
       "      <td>0.231069</td>\n",
       "      <td>0.845540</td>\n",
       "      <td>0.729937</td>\n",
       "      <td>0.716108</td>\n",
       "      <td>0.680858</td>\n",
       "      <td>-0.747547</td>\n",
       "      <td>-0.467843</td>\n",
       "      <td>0.189735</td>\n",
       "      <td>0.437186</td>\n",
       "      <td>0.051577</td>\n",
       "      <td>0.805976</td>\n",
       "      <td>0.442315</td>\n",
       "      <td>1.000000</td>\n",
       "      <td>0.911407</td>\n",
       "    </tr>\n",
       "    <tr>\n",
       "      <th>human_development_index</th>\n",
       "      <td>0.168201</td>\n",
       "      <td>0.168342</td>\n",
       "      <td>0.647801</td>\n",
       "      <td>0.502736</td>\n",
       "      <td>0.041009</td>\n",
       "      <td>-0.016980</td>\n",
       "      <td>0.179682</td>\n",
       "      <td>0.897594</td>\n",
       "      <td>0.780512</td>\n",
       "      <td>0.768762</td>\n",
       "      <td>0.753171</td>\n",
       "      <td>-0.777256</td>\n",
       "      <td>-0.422122</td>\n",
       "      <td>0.199447</td>\n",
       "      <td>0.554454</td>\n",
       "      <td>0.089271</td>\n",
       "      <td>0.836244</td>\n",
       "      <td>0.557107</td>\n",
       "      <td>0.911407</td>\n",
       "      <td>1.000000</td>\n",
       "    </tr>\n",
       "  </tbody>\n",
       "</table>\n",
       "</div>"
      ],
      "text/plain": [
       "                            total_cases  total_deaths  \\\n",
       "total_cases                    1.000000      0.934057   \n",
       "total_deaths                   0.934057      1.000000   \n",
       "total_cases_per_million        0.174822      0.156999   \n",
       "total_deaths_per_million       0.212464      0.330795   \n",
       "total_vaccinations             0.366110      0.314907   \n",
       "population                     0.512368      0.435482   \n",
       "population_density            -0.030605     -0.042651   \n",
       "median_age                     0.160332      0.156947   \n",
       "aged_65_older                  0.154883      0.143235   \n",
       "aged_70_older                  0.148134      0.138055   \n",
       "gdp_per_capita                 0.128784      0.092471   \n",
       "extreme_poverty               -0.127453     -0.157093   \n",
       "cardiovasc_death_rate         -0.122584     -0.125241   \n",
       "diabetes_prevalence            0.031206      0.055372   \n",
       "female_smokers                 0.092740      0.093874   \n",
       "male_smokers                  -0.077176     -0.066347   \n",
       "handwashing_facilities         0.105829      0.163881   \n",
       "hospital_beds_per_thousand     0.002238      0.000313   \n",
       "life_expectancy                0.128173      0.129136   \n",
       "human_development_index        0.168201      0.168342   \n",
       "\n",
       "                            total_cases_per_million  total_deaths_per_million  \\\n",
       "total_cases                                0.174822                  0.212464   \n",
       "total_deaths                               0.156999                  0.330795   \n",
       "total_cases_per_million                    1.000000                  0.690915   \n",
       "total_deaths_per_million                   0.690915                  1.000000   \n",
       "total_vaccinations                        -0.080792                 -0.053281   \n",
       "population                                -0.103222                 -0.071585   \n",
       "population_density                         0.038617                 -0.052514   \n",
       "median_age                                 0.633754                  0.533792   \n",
       "aged_65_older                              0.570406                  0.522953   \n",
       "aged_70_older                              0.565950                  0.517476   \n",
       "gdp_per_capita                             0.448004                  0.183290   \n",
       "extreme_poverty                           -0.535287                 -0.468993   \n",
       "cardiovasc_death_rate                     -0.255387                 -0.146859   \n",
       "diabetes_prevalence                        0.032692                  0.056988   \n",
       "female_smokers                             0.564650                  0.542774   \n",
       "male_smokers                               0.172107                  0.161592   \n",
       "handwashing_facilities                     0.609856                  0.553514   \n",
       "hospital_beds_per_thousand                 0.357363                  0.293848   \n",
       "life_expectancy                            0.583977                  0.445225   \n",
       "human_development_index                    0.647801                  0.502736   \n",
       "\n",
       "                            total_vaccinations  population  \\\n",
       "total_cases                           0.366110    0.512368   \n",
       "total_deaths                          0.314907    0.435482   \n",
       "total_cases_per_million              -0.080792   -0.103222   \n",
       "total_deaths_per_million             -0.053281   -0.071585   \n",
       "total_vaccinations                    1.000000    0.925241   \n",
       "population                            0.925241    1.000000   \n",
       "population_density                   -0.020541   -0.028066   \n",
       "median_age                            0.097777    0.032107   \n",
       "aged_65_older                         0.051770   -0.001784   \n",
       "aged_70_older                         0.035962   -0.013840   \n",
       "gdp_per_capita                       -0.006356   -0.051248   \n",
       "extreme_poverty                      -0.064160   -0.037456   \n",
       "cardiovasc_death_rate                -0.033702   -0.008687   \n",
       "diabetes_prevalence                   0.050063   -0.004276   \n",
       "female_smokers                       -0.084589   -0.124605   \n",
       "male_smokers                          0.066587    0.021783   \n",
       "handwashing_facilities                0.062989    0.033667   \n",
       "hospital_beds_per_thousand            0.036388   -0.041820   \n",
       "life_expectancy                       0.054703   -0.024398   \n",
       "human_development_index               0.041009   -0.016980   \n",
       "\n",
       "                            population_density  median_age  aged_65_older  \\\n",
       "total_cases                          -0.030605    0.160332       0.154883   \n",
       "total_deaths                         -0.042651    0.156947       0.143235   \n",
       "total_cases_per_million               0.038617    0.633754       0.570406   \n",
       "total_deaths_per_million             -0.052514    0.533792       0.522953   \n",
       "total_vaccinations                   -0.020541    0.097777       0.051770   \n",
       "population                           -0.028066    0.032107      -0.001784   \n",
       "population_density                    1.000000    0.148996       0.063253   \n",
       "median_age                            0.148996    1.000000       0.913454   \n",
       "aged_65_older                         0.063253    0.913454       1.000000   \n",
       "aged_70_older                         0.031729    0.897650       0.994416   \n",
       "gdp_per_capita                        0.409115    0.643436       0.492855   \n",
       "extreme_poverty                      -0.033639   -0.697290      -0.574047   \n",
       "cardiovasc_death_rate                -0.176599   -0.340794      -0.340430   \n",
       "diabetes_prevalence                   0.011056    0.137148      -0.063584   \n",
       "female_smokers                       -0.046626    0.635594       0.733061   \n",
       "male_smokers                          0.000888    0.174119       0.084517   \n",
       "handwashing_facilities                0.091626    0.781097       0.628682   \n",
       "hospital_beds_per_thousand            0.309588    0.649012       0.635134   \n",
       "life_expectancy                       0.231069    0.845540       0.729937   \n",
       "human_development_index               0.179682    0.897594       0.780512   \n",
       "\n",
       "                            aged_70_older  gdp_per_capita  extreme_poverty  \\\n",
       "total_cases                      0.148134        0.128784        -0.127453   \n",
       "total_deaths                     0.138055        0.092471        -0.157093   \n",
       "total_cases_per_million          0.565950        0.448004        -0.535287   \n",
       "total_deaths_per_million         0.517476        0.183290        -0.468993   \n",
       "total_vaccinations               0.035962       -0.006356        -0.064160   \n",
       "population                      -0.013840       -0.051248        -0.037456   \n",
       "population_density               0.031729        0.409115        -0.033639   \n",
       "median_age                       0.897650        0.643436        -0.697290   \n",
       "aged_65_older                    0.994416        0.492855        -0.574047   \n",
       "aged_70_older                    1.000000        0.477828        -0.557994   \n",
       "gdp_per_capita                   0.477828        1.000000        -0.502403   \n",
       "extreme_poverty                 -0.557994       -0.502403         1.000000   \n",
       "cardiovasc_death_rate           -0.354783       -0.472432         0.189471   \n",
       "diabetes_prevalence             -0.091368        0.120561        -0.378415   \n",
       "female_smokers                   0.733614        0.308848        -0.411692   \n",
       "male_smokers                     0.083907       -0.102095        -0.192223   \n",
       "handwashing_facilities           0.624506        0.655516        -0.751043   \n",
       "hospital_beds_per_thousand       0.635943        0.290927        -0.443556   \n",
       "life_expectancy                  0.716108        0.680858        -0.747547   \n",
       "human_development_index          0.768762        0.753171        -0.777256   \n",
       "\n",
       "                            cardiovasc_death_rate  diabetes_prevalence  \\\n",
       "total_cases                             -0.122584             0.031206   \n",
       "total_deaths                            -0.125241             0.055372   \n",
       "total_cases_per_million                 -0.255387             0.032692   \n",
       "total_deaths_per_million                -0.146859             0.056988   \n",
       "total_vaccinations                      -0.033702             0.050063   \n",
       "population                              -0.008687            -0.004276   \n",
       "population_density                      -0.176599             0.011056   \n",
       "median_age                              -0.340794             0.137148   \n",
       "aged_65_older                           -0.340430            -0.063584   \n",
       "aged_70_older                           -0.354783            -0.091368   \n",
       "gdp_per_capita                          -0.472432             0.120561   \n",
       "extreme_poverty                          0.189471            -0.378415   \n",
       "cardiovasc_death_rate                    1.000000             0.143445   \n",
       "diabetes_prevalence                      0.143445             1.000000   \n",
       "female_smokers                          -0.142891             0.086033   \n",
       "male_smokers                             0.426005             0.201028   \n",
       "handwashing_facilities                  -0.003417             0.466853   \n",
       "hospital_beds_per_thousand               0.037033            -0.055739   \n",
       "life_expectancy                         -0.467843             0.189735   \n",
       "human_development_index                 -0.422122             0.199447   \n",
       "\n",
       "                            female_smokers  male_smokers  \\\n",
       "total_cases                       0.092740     -0.077176   \n",
       "total_deaths                      0.093874     -0.066347   \n",
       "total_cases_per_million           0.564650      0.172107   \n",
       "total_deaths_per_million          0.542774      0.161592   \n",
       "total_vaccinations               -0.084589      0.066587   \n",
       "population                       -0.124605      0.021783   \n",
       "population_density               -0.046626      0.000888   \n",
       "median_age                        0.635594      0.174119   \n",
       "aged_65_older                     0.733061      0.084517   \n",
       "aged_70_older                     0.733614      0.083907   \n",
       "gdp_per_capita                    0.308848     -0.102095   \n",
       "extreme_poverty                  -0.411692     -0.192223   \n",
       "cardiovasc_death_rate            -0.142891      0.426005   \n",
       "diabetes_prevalence               0.086033      0.201028   \n",
       "female_smokers                    1.000000      0.227019   \n",
       "male_smokers                      0.227019      1.000000   \n",
       "handwashing_facilities            0.296452      0.326753   \n",
       "hospital_beds_per_thousand        0.473420      0.347571   \n",
       "life_expectancy                   0.437186      0.051577   \n",
       "human_development_index           0.554454      0.089271   \n",
       "\n",
       "                            handwashing_facilities  \\\n",
       "total_cases                               0.105829   \n",
       "total_deaths                              0.163881   \n",
       "total_cases_per_million                   0.609856   \n",
       "total_deaths_per_million                  0.553514   \n",
       "total_vaccinations                        0.062989   \n",
       "population                                0.033667   \n",
       "population_density                        0.091626   \n",
       "median_age                                0.781097   \n",
       "aged_65_older                             0.628682   \n",
       "aged_70_older                             0.624506   \n",
       "gdp_per_capita                            0.655516   \n",
       "extreme_poverty                          -0.751043   \n",
       "cardiovasc_death_rate                    -0.003417   \n",
       "diabetes_prevalence                       0.466853   \n",
       "female_smokers                            0.296452   \n",
       "male_smokers                              0.326753   \n",
       "handwashing_facilities                    1.000000   \n",
       "hospital_beds_per_thousand                0.473710   \n",
       "life_expectancy                           0.805976   \n",
       "human_development_index                   0.836244   \n",
       "\n",
       "                            hospital_beds_per_thousand  life_expectancy  \\\n",
       "total_cases                                   0.002238         0.128173   \n",
       "total_deaths                                  0.000313         0.129136   \n",
       "total_cases_per_million                       0.357363         0.583977   \n",
       "total_deaths_per_million                      0.293848         0.445225   \n",
       "total_vaccinations                            0.036388         0.054703   \n",
       "population                                   -0.041820        -0.024398   \n",
       "population_density                            0.309588         0.231069   \n",
       "median_age                                    0.649012         0.845540   \n",
       "aged_65_older                                 0.635134         0.729937   \n",
       "aged_70_older                                 0.635943         0.716108   \n",
       "gdp_per_capita                                0.290927         0.680858   \n",
       "extreme_poverty                              -0.443556        -0.747547   \n",
       "cardiovasc_death_rate                         0.037033        -0.467843   \n",
       "diabetes_prevalence                          -0.055739         0.189735   \n",
       "female_smokers                                0.473420         0.437186   \n",
       "male_smokers                                  0.347571         0.051577   \n",
       "handwashing_facilities                        0.473710         0.805976   \n",
       "hospital_beds_per_thousand                    1.000000         0.442315   \n",
       "life_expectancy                               0.442315         1.000000   \n",
       "human_development_index                       0.557107         0.911407   \n",
       "\n",
       "                            human_development_index  \n",
       "total_cases                                0.168201  \n",
       "total_deaths                               0.168342  \n",
       "total_cases_per_million                    0.647801  \n",
       "total_deaths_per_million                   0.502736  \n",
       "total_vaccinations                         0.041009  \n",
       "population                                -0.016980  \n",
       "population_density                         0.179682  \n",
       "median_age                                 0.897594  \n",
       "aged_65_older                              0.780512  \n",
       "aged_70_older                              0.768762  \n",
       "gdp_per_capita                             0.753171  \n",
       "extreme_poverty                           -0.777256  \n",
       "cardiovasc_death_rate                     -0.422122  \n",
       "diabetes_prevalence                        0.199447  \n",
       "female_smokers                             0.554454  \n",
       "male_smokers                               0.089271  \n",
       "handwashing_facilities                     0.836244  \n",
       "hospital_beds_per_thousand                 0.557107  \n",
       "life_expectancy                            0.911407  \n",
       "human_development_index                    1.000000  "
      ]
     },
     "execution_count": 11,
     "metadata": {},
     "output_type": "execute_result"
    }
   ],
   "source": [
    "df.corr()"
   ]
  },
  {
   "cell_type": "code",
   "execution_count": null,
   "metadata": {},
   "outputs": [],
   "source": []
  }
 ],
 "metadata": {
  "interpreter": {
   "hash": "e07884d3db406bfe4e9d8bc1147c98885fcd024ce2235a9423609a2f6b048686"
  },
  "kernelspec": {
   "display_name": "Python 3.8.3 64-bit ('base': conda)",
   "language": "python",
   "name": "python3"
  },
  "language_info": {
   "codemirror_mode": {
    "name": "ipython",
    "version": 3
   },
   "file_extension": ".py",
   "mimetype": "text/x-python",
   "name": "python",
   "nbconvert_exporter": "python",
   "pygments_lexer": "ipython3",
   "version": "3.8.3"
  },
  "orig_nbformat": 4
 },
 "nbformat": 4,
 "nbformat_minor": 2
}
