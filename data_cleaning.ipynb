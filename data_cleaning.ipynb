{
 "cells": [
  {
   "cell_type": "code",
   "execution_count": 118,
   "metadata": {},
   "outputs": [],
   "source": [
    "import pandas as pd\n",
    "import numpy as np\n",
    "\n",
    "df = pd.read_excel('covid_econonomic_factors.xlsx', sheet_name = [\n",
    "    'gdp_growth_rate', 'gdp_per_cap_PPP', 'personal_income_tax_rate',\n",
    "    'personal_income_tax_rate', 'debt_to_gdp', 'ease_of_doing_business',\n",
    "    'internet_speed', 'unemployment_rate', 'consumer_price_index', \n",
    "    'inflation_rates', 'coronavirus_cases', 'coronavirus_deaths', \n",
    "    'coronavirus_recovered', 'coronavirus_vaccination_rate', 'coronavirus_vaccination_total',\n",
    "    'corruption_rank', 'population'\n",
    "])\n",
    "\n",
    "edu_factors = pd.read_excel('edu_factors.xlsx', sheet_name=[\n",
    "    'gov_exp_on_edu_percent_of_gdp', 'gov_exp_on_edu_perc_per_student',\n",
    "    'gov_exp_per_stud_tertiary_perc', 'pupil_teacher_ratio_primary',\n",
    "    'youth_literacy_rate'\n",
    "])\n",
    "\n",
    "continent = pd.read_csv('countryContinent.csv')"
   ]
  },
  {
   "cell_type": "code",
   "execution_count": 119,
   "metadata": {},
   "outputs": [
    {
     "data": {
      "text/plain": [
       "16"
      ]
     },
     "execution_count": 119,
     "metadata": {},
     "output_type": "execute_result"
    }
   ],
   "source": [
    "len(df.keys())"
   ]
  },
  {
   "cell_type": "code",
   "execution_count": 120,
   "metadata": {},
   "outputs": [],
   "source": [
    "final_df = pd.DataFrame(df['gdp_growth_rate'][['Country', 'Last']])\n",
    "final_df.columns = ['Country', 'gdp_growth_rate']\n",
    "for i in df.keys():\n",
    "    df_tmp = df[i][['Country', 'Last']]\n",
    "    df_tmp.columns = ['Country', i]\n",
    "    final_df = final_df.merge(df_tmp)"
   ]
  },
  {
   "cell_type": "code",
   "execution_count": 121,
   "metadata": {},
   "outputs": [
    {
     "data": {
      "text/plain": [
       "Index(['Country', 'gdp_growth_rate', 'gdp_per_cap_PPP',\n",
       "       'personal_income_tax_rate', 'debt_to_gdp', 'ease_of_doing_business',\n",
       "       'internet_speed', 'unemployment_rate', 'consumer_price_index',\n",
       "       'inflation_rates', 'coronavirus_cases', 'coronavirus_deaths',\n",
       "       'coronavirus_recovered', 'coronavirus_vaccination_rate',\n",
       "       'coronavirus_vaccination_total', 'corruption_rank', 'population'],\n",
       "      dtype='object')"
      ]
     },
     "execution_count": 121,
     "metadata": {},
     "output_type": "execute_result"
    }
   ],
   "source": [
    "final_df.columns"
   ]
  },
  {
   "cell_type": "code",
   "execution_count": 122,
   "metadata": {},
   "outputs": [],
   "source": [
    "final_df['covid_death_rate'] = final_df['coronavirus_deaths']/final_df['population']\n",
    "final_df['covid_cases_rate'] = final_df['coronavirus_cases']/final_df['population']\n",
    "final_df['covid_recovered'] = final_df['coronavirus_recovered']/final_df['population']\n",
    "final_df = final_df.rename(columns={'coronavirus_vaccination_rate':'covid_vaccination_rate'})"
   ]
  },
  {
   "cell_type": "code",
   "execution_count": 123,
   "metadata": {},
   "outputs": [],
   "source": [
    "final_df = continent[['country', 'continent', 'sub_region']].merge(final_df.rename(columns={'Country':'country'}), on='country')"
   ]
  },
  {
   "cell_type": "code",
   "execution_count": 124,
   "metadata": {},
   "outputs": [],
   "source": [
    "final_edu = pd.DataFrame(edu_factors['gov_exp_on_edu_percent_of_gdp'][['Country', 'Most Recent Value']])\n",
    "final_edu.columns = ['Country', 'gov_exp_on_edu_percent_of_gdp']\n",
    "for i in edu_factors.keys():\n",
    "    df_tmp = edu_factors[i][['Country', 'Most Recent Value']]\n",
    "    df_tmp.columns = ['Country', i]\n",
    "    final_edu = final_edu.merge(df_tmp)\n",
    "\n",
    "final_edu = final_edu.rename(columns={'Country':'country'})"
   ]
  },
  {
   "cell_type": "code",
   "execution_count": 125,
   "metadata": {},
   "outputs": [],
   "source": [
    "final_edu.country = np.where(final_edu.country == 'Bahamas, The', 'Bahamas', \n",
    "         np.where(final_edu.country == \"Cote d'Ivoire\", 'Ivory Coast',\n",
    "         np.where(final_edu.country == \"Egypt, Arab Rep.\", 'Egypt',\n",
    "         np.where(final_edu.country == \"Gambia, The\", 'Gambia',\n",
    "         np.where(final_edu.country == \"Hong Kong SAR, China\", 'Hong Kong',\n",
    "         np.where(final_edu.country == \"Korea, Rep.\", \"South Korea\",\n",
    "         np.where(final_edu.country == \"North Macedonia\", 'Macedonia',\n",
    "         np.where(final_edu.country == \"Russian Federation\", \"Russia\",\n",
    "         np.where(final_edu.country == \"Slovak Republic\", \"Slovakia\", \n",
    "         final_edu.country)))))))))"
   ]
  },
  {
   "cell_type": "code",
   "execution_count": 126,
   "metadata": {},
   "outputs": [
    {
     "name": "stdout",
     "output_type": "stream",
     "text": [
      "Swaziland\n"
     ]
    }
   ],
   "source": [
    "for i in final_df.country.unique():\n",
    "    if i not in final_edu.country.unique():\n",
    "        print(i)"
   ]
  },
  {
   "cell_type": "code",
   "execution_count": 127,
   "metadata": {},
   "outputs": [],
   "source": [
    "final_df = final_edu.merge(final_df, on='country')"
   ]
  },
  {
   "cell_type": "code",
   "execution_count": 128,
   "metadata": {},
   "outputs": [],
   "source": [
    "final_df.to_csv('final_df.csv', index=False)"
   ]
  },
  {
   "cell_type": "code",
   "execution_count": null,
   "metadata": {},
   "outputs": [],
   "source": []
  },
  {
   "cell_type": "code",
   "execution_count": null,
   "metadata": {},
   "outputs": [],
   "source": []
  }
 ],
 "metadata": {
  "interpreter": {
   "hash": "e07884d3db406bfe4e9d8bc1147c98885fcd024ce2235a9423609a2f6b048686"
  },
  "kernelspec": {
   "display_name": "Python 3.8.3 64-bit ('base': conda)",
   "language": "python",
   "name": "python3"
  },
  "language_info": {
   "codemirror_mode": {
    "name": "ipython",
    "version": 3
   },
   "file_extension": ".py",
   "mimetype": "text/x-python",
   "name": "python",
   "nbconvert_exporter": "python",
   "pygments_lexer": "ipython3",
   "version": "3.8.3"
  },
  "orig_nbformat": 4
 },
 "nbformat": 4,
 "nbformat_minor": 2
}
